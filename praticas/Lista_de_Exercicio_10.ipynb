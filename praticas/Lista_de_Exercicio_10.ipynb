{
  "nbformat": 4,
  "nbformat_minor": 0,
  "metadata": {
    "colab": {
      "name": "Lista_de_Exercicio_10.ipynb",
      "provenance": [],
      "collapsed_sections": [
        "NyvxHviMpShq"
      ],
      "toc_visible": true
    },
    "kernelspec": {
      "display_name": "Python 3",
      "name": "python3"
    },
    "accelerator": "GPU"
  },
  "cells": [
    {
      "cell_type": "markdown",
      "metadata": {
        "id": "kGlmyFQMaR-U"
      },
      "source": [
        "# Lista de Exercício 10\n",
        "### Introdução à Visão Computacional (SEL0339/SEL5886)\n",
        "\n",
        "**Instruções:**\n",
        "\n",
        " 1. Esta lista consiste de 2 exercícios.\n",
        " 1. Deve-se colocar comentários nos códigos desenvolvidos.\n",
        " 1. As perguntas devem ser respondidas também como comentários no arquivo.\n",
        " 1. Colocar seu nome e número USP abaixo.\n",
        " 1. Quaisquer problemas na execução das listas, entrar em contato com os monitores.\n",
        " 1. Depois de terminado os exercícios, deve ser gerado um arquivo **extensão .ipynb** para ser enviado ao professor pelo E-DISCIPLINAS da disciplina até a data máxima de entrega.\n",
        " 1. Caso não seja enviado, o aluno ficará sem nota.\n",
        "\n",
        "\n",
        "---\n",
        "\n",
        "\n",
        "\n",
        " <table class=\"tfo-notebook-buttons\" align=\"left\">\n",
        "  <td>\n",
        "    <a target=\"_blank\" href=\"https://colab.research.google.com/github/LAVI-USP/SEL0339-SEL5886/blob/master/praticas/Lista_de_Exercicio_10.ipynb\"><img src=\"https://www.tensorflow.org/images/colab_logo_32px.png\" />Executar no Google Colab</a>\n",
        "  </td>\n",
        "  <td>\n",
        "    <a target=\"_blank\" href=\"https://github.com/LAVI-USP/SEL0339-SEL5886/blob/master/praticas/Lista_de_Exercicio_10.ipynb\"><img src=\"https://www.tensorflow.org/images/GitHub-Mark-32px.png\" />Ver codigo fonte no GitHub</a>\n",
        "  </td>\n",
        "</table>\n"
      ]
    },
    {
      "cell_type": "markdown",
      "metadata": {
        "id": "L3qYz1dB-tlT"
      },
      "source": [
        "`Nome: `\n",
        "\n",
        "`Número USP: `"
      ]
    },
    {
      "cell_type": "markdown",
      "metadata": {
        "id": "b9uBe7nevota"
      },
      "source": [
        "### Introdução:\n",
        "\n",
        "\n",
        "Vamos importar as bibliotecas que iremos utilizar:"
      ]
    },
    {
      "cell_type": "code",
      "metadata": {
        "id": "xnKV2As4aCX1"
      },
      "source": [
        "import numpy as np\n",
        "import matplotlib.pyplot as plt"
      ],
      "execution_count": null,
      "outputs": []
    },
    {
      "cell_type": "markdown",
      "metadata": {
        "id": "NyvxHviMpShq"
      },
      "source": [
        "#### **Atenção**: os códigos abaixo são para fazer o download das imagens (EXECUTE-OS). Os mesmos não fazem parte dessa prática. "
      ]
    },
    {
      "cell_type": "code",
      "metadata": {
        "id": "Amk5CM273Afp"
      },
      "source": [
        "import urllib.request\n",
        "\n",
        "try:\n",
        "  urllib.request.urlretrieve(\"https://github.com/LAVI-USP/SEL0339-SEL5886_2021/raw/main/imagens/pratica_10/jogadores.csv\", \"jogadores.csv\")\n",
        "except:\n",
        "  print(\"[ERRO] Não foi possível fazer o download das imagens dessa prática. Entre em contato com o monitor\")\n",
        "  "
      ],
      "execution_count": null,
      "outputs": []
    },
    {
      "cell_type": "markdown",
      "metadata": {
        "id": "fvHo7Slr5Jn4"
      },
      "source": [
        "### 1) Análise de Agrupamentos (*Cluster Analysis*)\n",
        "\n",
        "Uma forma de agrupar dados que não possuem classes preestabelecidas é utilizando um método não-supervisionado, como o algoritmo de análise hierárquica e seu dendrograma equivalente. Outro método é o K-Means, que por meio de um método iterativo encontra K grupos de acordo com uma métrica de similaridade, como a distância euclidiana.\n",
        "\n",
        "Abaixo temos um conjunto de dados sobre alguns atacantes no futebol. Neste exercício realizaremos o agrupamento desses jogadores utilizando os atributos apresentados (jogos, gols e assistências).\n",
        "\n",
        "\n",
        "<center><figcaption><b> Tabela 1: </b> Relação de alguns jogadores (dados até novembro de 2021)</b></figcaption>\n",
        "</figure></center>\n",
        "\n",
        ">Jogador | Jogos | Gols | Assistências\n",
        ">--- | --- | --- | ---\n",
        ">Cristiano Ronaldo | 912 | 686 | 231\n",
        ">Lionel Messi | 792 | 678 | 305 \n",
        ">Gabriel Barbosa | 263 | 129 | 39\n",
        ">Lewandovski | 652 | 486 | 131\n",
        ">Rafael Moura | 391 | 103 | 21\n",
        ">Fred | 486 | 215 | 60 \n",
        ">Gabriel Jesus | 265 | 108 | 48\n",
        ">Neymar | 450 | 265 | 166\n",
        ">Hulk | 638 | 337 | 191\n",
        ">Harry Kane | 435 | 256 | 67\n",
        "\n",
        "**Exercício:**\n",
        "\n",
        "**1**. Carreguar a tabela de dados dos jogadores disponível no arquivo **jogadores.csv**. Os dados seguem a mesma ordem apresentada na **Tabela 1**. Fazer a padronização dos dados pela amostra de acordo com a fórmula abaixo:\n",
        "\n",
        "\\begin{equation}\n",
        "  Z = \\frac{X - \\bar{X}}{\\sigma_{X}}\n",
        "\\end{equation}\n",
        "\n",
        "onde $X$ representa o atributo analisado, $\\bar{X}$ o seu valor médio e $\\sigma_{X}$ o sue desvio padrão.\n",
        "\n",
        "**2**. Encontrar a Matriz de Distância dos dados padronizados em (**1**) utilizando a função [**pdist**](https://docs.scipy.org/doc/scipy/reference/generated/scipy.spatial.distance.pdist.html#scipy.spatial.distance.pdist), que retorna a Matriz de Distância condensada (apenas os valores acima da diagonal principal), ideal para a utilização com as demais funções da biblioteca **scipy** para tal finalidade;=.\n",
        "\n",
        "`D = pdist(M) %‘M’ é a matriz padronizada`\n",
        "\n",
        "Definir as Ligações para agrupar os objetos/Vetores utilizando a Ligação Centróide. [**hierarchy.linkage**](https://docs.scipy.org/doc/scipy/reference/generated/scipy.cluster.hierarchy.linkage.html#scipy.cluster.hierarchy.linkage)\n",
        "\n",
        "`Z = hierarchy.linkage(D,'centroid')`\n",
        "\n",
        "Plotar o Dendrograma de Z e expliquar o significado de cada ramo. [**hierarchy.dendrogram**](https://docs.scipy.org/doc/scipy/reference/generated/scipy.cluster.hierarchy.dendrogram.html)\n",
        "\n",
        "`H = hierarchy.dendrogram(Z,labels=nomes,orientation='right')`\n",
        "\n",
        "O eixo de similaridade para o caso da função do SciPy é apresentado com valores de nível de distância em lugar de similaridade. Qual o limiar que se deve estabelecer para separar os jogadores em 3 grupos?\n",
        "\n",
        "**3**. Aplicar o método K-means (para k=3) para tentar agrupar os vetores de atributos. Imprimir os valores dos centróides e os agrupamentos após o método convergir. É possível utilizar as funções (métodos) da classe [**KMeans**](https://scikit-learn.org/stable/modules/generated/sklearn.cluster.KMeans.html) da biblioteca **sklearn**:\n",
        "\n",
        "`kmeans = KMeans(n_clusters=numero_de_clusters, random_state=0).fit(dados_padronizados)`\n",
        "\n",
        "`classe_de_cada_amostra = kmeans.labels_`\n",
        "\n",
        "`centroides = kmeans.cluster_centers_`\n",
        "\n",
        "Utilizando a função [**scatter3D**](https://www.geeksforgeeks.org/3d-scatter-plotting-in-python-using-matplotlib/) do matplotlib, plote o espaço tridimensional com os atributos (Jogos, Gols, Assistências) de cada jogador além de indicar os 3 centroides calculados.\n",
        "\n",
        "**4**. Com os centroides encontrados em (**3**), verifique em qual Grupo (Cluster) o novo jogador (Ibrahimovic) é classificado, verificando com qual tem maior similaridade (utilize a distância Euclidiana para verificação da classe) e não esqueça de aplicar a padronização baseada no conjunto de treino.\n",
        "\n",
        ">Jogador | Jogos | Gols | Assistências\n",
        ">--- | --- | --- | ---\n",
        ">Ibrahimovic | 801 | 490 | 201\n",
        "\n",
        "É possível utilziar um método do **KMeans** para realizar a classificação do novo vetor de característica:\n",
        "\n",
        "`nova_predição = kmeans.predict(vetor_novo_jogador)`\n",
        "\n",
        "<details>    \n",
        "<summary>\n",
        "    <font size=\"3\" color=\"darkblue\"><b>Dicas:</b></font>\n",
        "</summary>\n",
        "\n",
        "*  Você pode utilizar a função [np.genfromtxt](https://numpy.org/doc/stable/reference/generated/numpy.genfromtxt.html#numpy.genfromtxt) para carregar o arquivo .csv. Em geral, para esse tipo de arquivo é utilizada a biblioteca Pandas.\n",
        "\n",
        "*Ex:*\n",
        "``` python\n",
        "    dados_jogadores = np.genfromtxt('jogadores.csv',dtype=int,delimiter=';')\n",
        "```\n",
        "\n",
        "* Você pode utilizar a função [np.linalg.norm](https://numpy.org/doc/stable/reference/generated/numpy.linalg.norm.html) da biblioteca `numpy.linalg` para calcular a distância entre os vetores.\n",
        "\n",
        "*Ex:*\n",
        "``` python\n",
        "    distancia = np.linalg.norm(diferenca_entre_vetores)\n",
        "```\n",
        "\n",
        "* O dendrograma pela função da biblioteca scipy é plotado em níveis de distância, em lugar de indicar a similaridade como apresentado em aula. Entretanto, a análise é análoga. O seu tamanho pode ser definido como uma plt.figure:\n",
        "\n",
        "*Ex:*\n",
        "``` python\n",
        "    plt.figure(figsize=(largura,altura))\n",
        "    dn = hierarchy.dendrogram(Z,labels=labels,orientation='right')\n",
        "    plt.show()\n",
        "```   \n",
        "* Para o gráfico 3D, pode-se plotá-lo utilizando funções do matplotlib, como pelo seguinte exemplo:\n",
        "\n",
        "``` python\n",
        "    fig = plt.figure(figsize = (largura, altura))\n",
        "    ax = plt.axes(projection =\"3d\")\n",
        "    # Criando o  plot\n",
        "    # As coordenadas x, y e z podem ser vetores com várias coordenadas em uma quantidade igual de valores. O parâmetro c ou color, pode ser um vetor de cores ou apenas uma cor.\n",
        "    ax.scatter3D(x, y, z, c=vetor_de_cores,s=tamanho_do_ponto)\n",
        "    # O ax.text permite adicionar uma etiqueta ao ponto que se deseja. Se preferir etiquetar todos os pontos é possível chamar a função em um laço for\n",
        "    ax.text(x, y, z,  'etiqueta', size=10, zorder=1, color='k')\n",
        "    ax.set_xlabel('Atributo 1')\n",
        "    ax.set_ylabel('Atributo 2')\n",
        "    ax.set_zlabel('Atributo 3')\n",
        "    plt.title(\"Títlo do Gráfico\")\n",
        "    plt.show()\n",
        "```  \n"
      ]
    },
    {
      "cell_type": "code",
      "metadata": {
        "id": "rm6K53YK_d02"
      },
      "source": [
        "from scipy.cluster import hierarchy\n",
        "from scipy.spatial.distance import pdist\n",
        "from sklearn.cluster import KMeans\n",
        "\n",
        "# Lista com os nomes dos jogadores na mesma sequência do arquivo:\n",
        "nomes=['Cristiano Ronaldo','Lionel Messi','Gabriel Barbosa','Lewandovski','Rafael Moura','Fred','Gabriel Jesus','Neymar','Hulk','Harry Kane']\n",
        "\n",
        "## -- Seu código começa AQUI -- ##\n",
        "\n",
        "## -- Seu código termina AQUI -- ##"
      ],
      "execution_count": null,
      "outputs": []
    },
    {
      "cell_type": "markdown",
      "metadata": {
        "id": "qtoHQgKPBAYn"
      },
      "source": [
        "### 2) Rede Neural Convolucional (CNN)\n",
        "\n",
        "Este exercício demonstra o treinamento de uma Rede Neural Convolucional (CNN) simples para classificar imagens do banco de dados chamado [CIFAR10](https://www.cs.toronto.edu/%7Ekriz/cifar.html). Como este tutorial usa a interface do [Keras](https://www.tensorflow.org/guide/keras/overview), criar e treinar o modelo exigirá apenas algumas linhas de código.\n",
        "\n",
        "\n",
        "\n",
        "**Referências:** \n",
        "\n",
        "*   Tensorflow  - [CNN](https://www.tensorflow.org/tutorials/images/cnn)\n",
        "*   Tensorflow  - [Image classification](https://www.tensorflow.org/tutorials/keras/classification#build_the_model)\n",
        "\n",
        "\n",
        "\n",
        "Vamos importar as bibliotecas que iremos utilizar para a rede neural:"
      ]
    },
    {
      "cell_type": "code",
      "metadata": {
        "id": "CyeqL-YERlMt"
      },
      "source": [
        "import tensorflow as tf\n",
        "\n",
        "from tensorflow.keras import datasets, layers, models"
      ],
      "execution_count": null,
      "outputs": []
    },
    {
      "cell_type": "markdown",
      "metadata": {
        "id": "RBoNCc8ZRTDt"
      },
      "source": [
        "#### *Conjunto de dados*\n",
        "\n",
        "O conjunto de dados (*dataset*) que vamos utilizar é o CIFAR10. Essa base contém 60.000 imagens coloridas em 10 classes (Figura 1), com 6.000 imagens em cada classe. O conjunto de dados é dividido em 50.000 imagens de treinamento e 10.000 imagens de teste.\n",
        "\n",
        "<table>\n",
        "    <tr>\n",
        "        <td class=\"cifar-class-name\">avião</td>\n",
        "        <td><img src=\"https://www.cs.toronto.edu/%7Ekriz/cifar-10-sample/airplane1.png\" class=\"cifar-sample\" /></td>\n",
        "        <td><img src=\"https://www.cs.toronto.edu/%7Ekriz/cifar-10-sample/airplane2.png\" class=\"cifar-sample\" /></td>\n",
        "        <td><img src=\"https://www.cs.toronto.edu/%7Ekriz/cifar-10-sample/airplane3.png\" class=\"cifar-sample\" /></td>\n",
        "        <td><img src=\"https://www.cs.toronto.edu/%7Ekriz/cifar-10-sample/airplane4.png\" class=\"cifar-sample\" /></td>\n",
        "        <td><img src=\"https://www.cs.toronto.edu/%7Ekriz/cifar-10-sample/airplane5.png\" class=\"cifar-sample\" /></td>\n",
        "        <td><img src=\"https://www.cs.toronto.edu/%7Ekriz/cifar-10-sample/airplane6.png\" class=\"cifar-sample\" /></td>\n",
        "        <td><img src=\"https://www.cs.toronto.edu/%7Ekriz/cifar-10-sample/airplane7.png\" class=\"cifar-sample\" /></td>\n",
        "        <td><img src=\"https://www.cs.toronto.edu/%7Ekriz/cifar-10-sample/airplane8.png\" class=\"cifar-sample\" /></td>\n",
        "        <td><img src=\"https://www.cs.toronto.edu/%7Ekriz/cifar-10-sample/airplane9.png\" class=\"cifar-sample\" /></td>\n",
        "        <td><img src=\"https://www.cs.toronto.edu/%7Ekriz/cifar-10-sample/airplane10.png\" class=\"cifar-sample\" /></td>\n",
        "    </tr>\n",
        "    <tr>\n",
        "        <td class=\"cifar-class-name\">automóvel</td>\n",
        "        <td><img src=\"https://www.cs.toronto.edu/%7Ekriz/cifar-10-sample/automobile1.png\" class=\"cifar-sample\" /></td>\n",
        "        <td><img src=\"https://www.cs.toronto.edu/%7Ekriz/cifar-10-sample/automobile2.png\" class=\"cifar-sample\" /></td>\n",
        "        <td><img src=\"https://www.cs.toronto.edu/%7Ekriz/cifar-10-sample/automobile3.png\" class=\"cifar-sample\" /></td>\n",
        "        <td><img src=\"https://www.cs.toronto.edu/%7Ekriz/cifar-10-sample/automobile4.png\" class=\"cifar-sample\" /></td>\n",
        "        <td><img src=\"https://www.cs.toronto.edu/%7Ekriz/cifar-10-sample/automobile5.png\" class=\"cifar-sample\" /></td>\n",
        "        <td><img src=\"https://www.cs.toronto.edu/%7Ekriz/cifar-10-sample/automobile6.png\" class=\"cifar-sample\" /></td>\n",
        "        <td><img src=\"https://www.cs.toronto.edu/%7Ekriz/cifar-10-sample/automobile7.png\" class=\"cifar-sample\" /></td>\n",
        "        <td><img src=\"https://www.cs.toronto.edu/%7Ekriz/cifar-10-sample/automobile8.png\" class=\"cifar-sample\" /></td>\n",
        "        <td><img src=\"https://www.cs.toronto.edu/%7Ekriz/cifar-10-sample/automobile9.png\" class=\"cifar-sample\" /></td>\n",
        "        <td><img src=\"https://www.cs.toronto.edu/%7Ekriz/cifar-10-sample/automobile10.png\" class=\"cifar-sample\" /></td>\n",
        "    </tr>\n",
        "    <tr>\n",
        "        <td class=\"cifar-class-name\">pássaro</td>\n",
        "        <td><img src=\"https://www.cs.toronto.edu/%7Ekriz/cifar-10-sample/bird1.png\" class=\"cifar-sample\" /></td>\n",
        "        <td><img src=\"https://www.cs.toronto.edu/%7Ekriz/cifar-10-sample/bird2.png\" class=\"cifar-sample\" /></td>\n",
        "        <td><img src=\"https://www.cs.toronto.edu/%7Ekriz/cifar-10-sample/bird3.png\" class=\"cifar-sample\" /></td>\n",
        "        <td><img src=\"https://www.cs.toronto.edu/%7Ekriz/cifar-10-sample/bird4.png\" class=\"cifar-sample\" /></td>\n",
        "        <td><img src=\"https://www.cs.toronto.edu/%7Ekriz/cifar-10-sample/bird5.png\" class=\"cifar-sample\" /></td>\n",
        "        <td><img src=\"https://www.cs.toronto.edu/%7Ekriz/cifar-10-sample/bird6.png\" class=\"cifar-sample\" /></td>\n",
        "        <td><img src=\"https://www.cs.toronto.edu/%7Ekriz/cifar-10-sample/bird7.png\" class=\"cifar-sample\" /></td>\n",
        "        <td><img src=\"https://www.cs.toronto.edu/%7Ekriz/cifar-10-sample/bird8.png\" class=\"cifar-sample\" /></td>\n",
        "        <td><img src=\"https://www.cs.toronto.edu/%7Ekriz/cifar-10-sample/bird9.png\" class=\"cifar-sample\" /></td>\n",
        "        <td><img src=\"https://www.cs.toronto.edu/%7Ekriz/cifar-10-sample/bird10.png\" class=\"cifar-sample\" /></td>\n",
        "    </tr>\n",
        "    <tr>\n",
        "        <td class=\"cifar-class-name\">gato</td>\n",
        "        <td><img src=\"https://www.cs.toronto.edu/%7Ekriz/cifar-10-sample/cat1.png\" class=\"cifar-sample\" /></td>\n",
        "        <td><img src=\"https://www.cs.toronto.edu/%7Ekriz/cifar-10-sample/cat2.png\" class=\"cifar-sample\" /></td>\n",
        "        <td><img src=\"https://www.cs.toronto.edu/%7Ekriz/cifar-10-sample/cat3.png\" class=\"cifar-sample\" /></td>\n",
        "        <td><img src=\"https://www.cs.toronto.edu/%7Ekriz/cifar-10-sample/cat4.png\" class=\"cifar-sample\" /></td>\n",
        "        <td><img src=\"https://www.cs.toronto.edu/%7Ekriz/cifar-10-sample/cat5.png\" class=\"cifar-sample\" /></td>\n",
        "        <td><img src=\"https://www.cs.toronto.edu/%7Ekriz/cifar-10-sample/cat6.png\" class=\"cifar-sample\" /></td>\n",
        "        <td><img src=\"https://www.cs.toronto.edu/%7Ekriz/cifar-10-sample/cat7.png\" class=\"cifar-sample\" /></td>\n",
        "        <td><img src=\"https://www.cs.toronto.edu/%7Ekriz/cifar-10-sample/cat8.png\" class=\"cifar-sample\" /></td>\n",
        "        <td><img src=\"https://www.cs.toronto.edu/%7Ekriz/cifar-10-sample/cat9.png\" class=\"cifar-sample\" /></td>\n",
        "        <td><img src=\"https://www.cs.toronto.edu/%7Ekriz/cifar-10-sample/cat10.png\" class=\"cifar-sample\" /></td>\n",
        "    </tr>\n",
        "    <tr>\n",
        "        <td class=\"cifar-class-name\">veado</td>\n",
        "        <td><img src=\"https://www.cs.toronto.edu/%7Ekriz/cifar-10-sample/deer1.png\" class=\"cifar-sample\" /></td>\n",
        "        <td><img src=\"https://www.cs.toronto.edu/%7Ekriz/cifar-10-sample/deer2.png\" class=\"cifar-sample\" /></td>\n",
        "        <td><img src=\"https://www.cs.toronto.edu/%7Ekriz/cifar-10-sample/deer3.png\" class=\"cifar-sample\" /></td>\n",
        "        <td><img src=\"https://www.cs.toronto.edu/%7Ekriz/cifar-10-sample/deer4.png\" class=\"cifar-sample\" /></td>\n",
        "        <td><img src=\"https://www.cs.toronto.edu/%7Ekriz/cifar-10-sample/deer5.png\" class=\"cifar-sample\" /></td>\n",
        "        <td><img src=\"https://www.cs.toronto.edu/%7Ekriz/cifar-10-sample/deer6.png\" class=\"cifar-sample\" /></td>\n",
        "        <td><img src=\"https://www.cs.toronto.edu/%7Ekriz/cifar-10-sample/deer7.png\" class=\"cifar-sample\" /></td>\n",
        "        <td><img src=\"https://www.cs.toronto.edu/%7Ekriz/cifar-10-sample/deer8.png\" class=\"cifar-sample\" /></td>\n",
        "        <td><img src=\"https://www.cs.toronto.edu/%7Ekriz/cifar-10-sample/deer9.png\" class=\"cifar-sample\" /></td>\n",
        "        <td><img src=\"https://www.cs.toronto.edu/%7Ekriz/cifar-10-sample/deer10.png\" class=\"cifar-sample\" /></td>\n",
        "    </tr>\n",
        "    <tr>\n",
        "        <td class=\"cifar-class-name\">cachorro</td>\n",
        "        <td><img src=\"https://www.cs.toronto.edu/%7Ekriz/cifar-10-sample/dog1.png\" class=\"cifar-sample\" /></td>\n",
        "        <td><img src=\"https://www.cs.toronto.edu/%7Ekriz/cifar-10-sample/dog2.png\" class=\"cifar-sample\" /></td>\n",
        "        <td><img src=\"https://www.cs.toronto.edu/%7Ekriz/cifar-10-sample/dog3.png\" class=\"cifar-sample\" /></td>\n",
        "        <td><img src=\"https://www.cs.toronto.edu/%7Ekriz/cifar-10-sample/dog4.png\" class=\"cifar-sample\" /></td>\n",
        "        <td><img src=\"https://www.cs.toronto.edu/%7Ekriz/cifar-10-sample/dog5.png\" class=\"cifar-sample\" /></td>\n",
        "        <td><img src=\"https://www.cs.toronto.edu/%7Ekriz/cifar-10-sample/dog6.png\" class=\"cifar-sample\" /></td>\n",
        "        <td><img src=\"https://www.cs.toronto.edu/%7Ekriz/cifar-10-sample/dog7.png\" class=\"cifar-sample\" /></td>\n",
        "        <td><img src=\"https://www.cs.toronto.edu/%7Ekriz/cifar-10-sample/dog8.png\" class=\"cifar-sample\" /></td>\n",
        "        <td><img src=\"https://www.cs.toronto.edu/%7Ekriz/cifar-10-sample/dog9.png\" class=\"cifar-sample\" /></td>\n",
        "        <td><img src=\"https://www.cs.toronto.edu/%7Ekriz/cifar-10-sample/dog10.png\" class=\"cifar-sample\" /></td>\n",
        "    </tr>\n",
        "    <tr>\n",
        "        <td class=\"cifar-class-name\">sapo</td>\n",
        "        <td><img src=\"https://www.cs.toronto.edu/%7Ekriz/cifar-10-sample/frog1.png\" class=\"cifar-sample\" /></td>\n",
        "        <td><img src=\"https://www.cs.toronto.edu/%7Ekriz/cifar-10-sample/frog2.png\" class=\"cifar-sample\" /></td>\n",
        "        <td><img src=\"https://www.cs.toronto.edu/%7Ekriz/cifar-10-sample/frog3.png\" class=\"cifar-sample\" /></td>\n",
        "        <td><img src=\"https://www.cs.toronto.edu/%7Ekriz/cifar-10-sample/frog4.png\" class=\"cifar-sample\" /></td>\n",
        "        <td><img src=\"https://www.cs.toronto.edu/%7Ekriz/cifar-10-sample/frog5.png\" class=\"cifar-sample\" /></td>\n",
        "        <td><img src=\"https://www.cs.toronto.edu/%7Ekriz/cifar-10-sample/frog6.png\" class=\"cifar-sample\" /></td>\n",
        "        <td><img src=\"https://www.cs.toronto.edu/%7Ekriz/cifar-10-sample/frog7.png\" class=\"cifar-sample\" /></td>\n",
        "        <td><img src=\"https://www.cs.toronto.edu/%7Ekriz/cifar-10-sample/frog8.png\" class=\"cifar-sample\" /></td>\n",
        "        <td><img src=\"https://www.cs.toronto.edu/%7Ekriz/cifar-10-sample/frog9.png\" class=\"cifar-sample\" /></td>\n",
        "        <td><img src=\"https://www.cs.toronto.edu/%7Ekriz/cifar-10-sample/frog10.png\" class=\"cifar-sample\" /></td>\n",
        "    </tr>\n",
        "    <tr>\n",
        "        <td class=\"cifar-class-name\">cavalo</td>\n",
        "        <td><img src=\"https://www.cs.toronto.edu/%7Ekriz/cifar-10-sample/horse1.png\" class=\"cifar-sample\" /></td>\n",
        "        <td><img src=\"https://www.cs.toronto.edu/%7Ekriz/cifar-10-sample/horse2.png\" class=\"cifar-sample\" /></td>\n",
        "        <td><img src=\"https://www.cs.toronto.edu/%7Ekriz/cifar-10-sample/horse3.png\" class=\"cifar-sample\" /></td>\n",
        "        <td><img src=\"https://www.cs.toronto.edu/%7Ekriz/cifar-10-sample/horse4.png\" class=\"cifar-sample\" /></td>\n",
        "        <td><img src=\"https://www.cs.toronto.edu/%7Ekriz/cifar-10-sample/horse5.png\" class=\"cifar-sample\" /></td>\n",
        "        <td><img src=\"https://www.cs.toronto.edu/%7Ekriz/cifar-10-sample/horse6.png\" class=\"cifar-sample\" /></td>\n",
        "        <td><img src=\"https://www.cs.toronto.edu/%7Ekriz/cifar-10-sample/horse7.png\" class=\"cifar-sample\" /></td>\n",
        "        <td><img src=\"https://www.cs.toronto.edu/%7Ekriz/cifar-10-sample/horse8.png\" class=\"cifar-sample\" /></td>\n",
        "        <td><img src=\"https://www.cs.toronto.edu/%7Ekriz/cifar-10-sample/horse9.png\" class=\"cifar-sample\" /></td>\n",
        "        <td><img src=\"https://www.cs.toronto.edu/%7Ekriz/cifar-10-sample/horse10.png\" class=\"cifar-sample\" /></td>\n",
        "    </tr>\n",
        "    <tr>\n",
        "        <td class=\"cifar-class-name\">navio</td>\n",
        "        <td><img src=\"https://www.cs.toronto.edu/%7Ekriz/cifar-10-sample/ship1.png\" class=\"cifar-sample\" /></td>\n",
        "        <td><img src=\"https://www.cs.toronto.edu/%7Ekriz/cifar-10-sample/ship2.png\" class=\"cifar-sample\" /></td>\n",
        "        <td><img src=\"https://www.cs.toronto.edu/%7Ekriz/cifar-10-sample/ship3.png\" class=\"cifar-sample\" /></td>\n",
        "        <td><img src=\"https://www.cs.toronto.edu/%7Ekriz/cifar-10-sample/ship4.png\" class=\"cifar-sample\" /></td>\n",
        "        <td><img src=\"https://www.cs.toronto.edu/%7Ekriz/cifar-10-sample/ship5.png\" class=\"cifar-sample\" /></td>\n",
        "        <td><img src=\"https://www.cs.toronto.edu/%7Ekriz/cifar-10-sample/ship6.png\" class=\"cifar-sample\" /></td>\n",
        "        <td><img src=\"https://www.cs.toronto.edu/%7Ekriz/cifar-10-sample/ship7.png\" class=\"cifar-sample\" /></td>\n",
        "        <td><img src=\"https://www.cs.toronto.edu/%7Ekriz/cifar-10-sample/ship8.png\" class=\"cifar-sample\" /></td>\n",
        "        <td><img src=\"https://www.cs.toronto.edu/%7Ekriz/cifar-10-sample/ship9.png\" class=\"cifar-sample\" /></td>\n",
        "        <td><img src=\"https://www.cs.toronto.edu/%7Ekriz/cifar-10-sample/ship10.png\" class=\"cifar-sample\" /></td>\n",
        "    </tr>\n",
        "    <tr>\n",
        "        <td class=\"cifar-class-name\">caminhão</td>\n",
        "        <td><img src=\"https://www.cs.toronto.edu/%7Ekriz/cifar-10-sample/truck1.png\" class=\"cifar-sample\" /></td>\n",
        "        <td><img src=\"https://www.cs.toronto.edu/%7Ekriz/cifar-10-sample/truck2.png\" class=\"cifar-sample\" /></td>\n",
        "        <td><img src=\"https://www.cs.toronto.edu/%7Ekriz/cifar-10-sample/truck3.png\" class=\"cifar-sample\" /></td>\n",
        "        <td><img src=\"https://www.cs.toronto.edu/%7Ekriz/cifar-10-sample/truck4.png\" class=\"cifar-sample\" /></td>\n",
        "        <td><img src=\"https://www.cs.toronto.edu/%7Ekriz/cifar-10-sample/truck5.png\" class=\"cifar-sample\" /></td>\n",
        "        <td><img src=\"https://www.cs.toronto.edu/%7Ekriz/cifar-10-sample/truck6.png\" class=\"cifar-sample\" /></td>\n",
        "        <td><img src=\"https://www.cs.toronto.edu/%7Ekriz/cifar-10-sample/truck7.png\" class=\"cifar-sample\" /></td>\n",
        "        <td><img src=\"https://www.cs.toronto.edu/%7Ekriz/cifar-10-sample/truck8.png\" class=\"cifar-sample\" /></td>\n",
        "        <td><img src=\"https://www.cs.toronto.edu/%7Ekriz/cifar-10-sample/truck9.png\" class=\"cifar-sample\" /></td>\n",
        "        <td><img src=\"https://www.cs.toronto.edu/%7Ekriz/cifar-10-sample/truck10.png\" class=\"cifar-sample\" /></td>\n",
        "    </tr>\n",
        "</table>\n",
        "<center><figcaption><b> Figura 1: </b> Classes da base de dados CIFAR10.</b></figcaption>\n",
        "</figure></center>\n",
        "\n",
        "Carregar a base de dados retorna quatro matrizes NumPy:\n",
        "\n",
        " - As variáveis `train_images` e `train_labels` são o conjunto de treinamento (os dados que o modelo usa para aprender).\n",
        " - O modelo é testado contra o conjunto de teste, as variáveis `test_images` e `test_labels`.\n",
        "\n",
        "As imagens são matrizes NumPy 32x32x3, com valores de pixel variando de 0 a 255. Os rótulos (*labels*) são uma matriz de inteiros, variando de 0 a 9. Eles correspondem à classe que a imagem representa:\n",
        "\n",
        "<center><figcaption><b> Tabela 2: </b> Classes e seus respectivos rótulos.</b></figcaption>\n",
        "</figure></center>\n",
        "\n",
        "| Classe    | Rotulo (label) |\n",
        "|-----------|----------------|\n",
        "| avião     |        0       |\n",
        "| automóvel |        1       |\n",
        "| pássaro   |        2       |\n",
        "| gato      |        3       |\n",
        "| veado     |        4       |\n",
        "| cachorro  |        5       |\n",
        "| sapo      |        6       |\n",
        "| cavalo    |        7       |\n",
        "| navio     |        8       |\n",
        "| caminhão  |        9       |\n",
        "\n",
        "**Exercício:**\n",
        "\n",
        "1. Mostre a quantidade de dados presente no conjunto de treinamento e no conjunto de teste;\n",
        " \n",
        "2. Mostre o formato de uma imagem contida no conjunto de treinamento e no conjunto de teste;\n",
        " \n",
        "3. Mostre o rótulo respectivo dessas duas imagens.\n",
        " \n",
        "<details>   \n",
        "<summary>\n",
        "   <font size=\"3\" color=\"darkblue\"><b>Dicas:</b></font>\n",
        "</summary>\n",
        " \n",
        "* A primeira dimensão da matriz de treinamento e de teste é referente a quantidade de dados.\n"
      ]
    },
    {
      "cell_type": "code",
      "metadata": {
        "id": "LxdD9YjeVsOI"
      },
      "source": [
        "# Carrega a base de dados CIFAR10\n",
        "(train_images, train_labels), (test_images, test_labels) = datasets.cifar10.load_data()\n",
        "\n",
        "## -- Seu código começa AQUI -- ##\n",
        "\n",
        "## -- Seu código termina AQUI -- ##"
      ],
      "execution_count": null,
      "outputs": []
    },
    {
      "cell_type": "markdown",
      "metadata": {
        "id": "zrTTFcJwV6Ji"
      },
      "source": [
        "#### *Pré-processamento*\n",
        "\n",
        "Os dados devem ser pré-processados antes de treinar a rede. Se você inspecionar \n",
        "a primeira imagem no conjunto de treinamento, verá que os valores de pixel estão no intervalo de 0 a 255.\n",
        "\n",
        "**Exercício:**\n",
        "\n",
        "4. Normalize os dados de treinamento e teste na faixa de 0 a 1."
      ]
    },
    {
      "cell_type": "code",
      "metadata": {
        "id": "NTZhA-WYRS1m"
      },
      "source": [
        "## -- Seu código começa AQUI -- ##\n",
        "\n",
        "## -- Seu código termina AQUI -- ##"
      ],
      "execution_count": null,
      "outputs": []
    },
    {
      "cell_type": "markdown",
      "metadata": {
        "id": "xO4i3OIKa1FM"
      },
      "source": [
        "#### *Inspeção do dataset*\n",
        "\n",
        "Vamos inspecionar as 25 primeiras imagens do conjunto de treinamento."
      ]
    },
    {
      "cell_type": "code",
      "metadata": {
        "id": "AdvYM9F7a9zs"
      },
      "source": [
        "# Nome de cada classe. Perceba que a posição de \n",
        "# cada classe corresponde ao rótulo dela\n",
        "class_names = ['avião', 'automóvel', 'pássaro', 'gato', 'veado',\n",
        "               'cachorro', 'sapo', 'cavalo', 'navio', 'caminhão']\n",
        "\n",
        "plt.figure(figsize=(10,10))\n",
        "for i in range(25):\n",
        "    plt.subplot(5,5,i+1)\n",
        "    plt.xticks([])\n",
        "    plt.yticks([])\n",
        "    plt.grid(False)\n",
        "    plt.imshow(train_images[i], cmap=plt.cm.binary)\n",
        "    plt.xlabel(class_names[train_labels[i][0]])"
      ],
      "execution_count": null,
      "outputs": []
    },
    {
      "cell_type": "markdown",
      "metadata": {
        "id": "Ji2NWFancWvT"
      },
      "source": [
        "#### *Construção do modelo*\n",
        "\n",
        "A construção da rede neural requer a configuração das camadas do modelo e, a seguir, a compilação do modelo.\n",
        "\n",
        "O bloco de construção básico de uma rede neural é chamado *Layer*. As *Layers* extraem representações dos dados alimentados nelas. Felizmente, essas representações são significativas para o problema em questão.\n",
        "\n",
        "A maior parte do aprendizado profundo (*Deep Learning*) consiste em encadear camadas simples. A maioria das camadas, como `tf.keras.layers.Dense`, tem parâmetros que são aprendidos durante o treinamento.\n",
        "\n",
        "**Exercício:**\n",
        "\n",
        "5. Configure o modelo a seguir. Utilize:\n",
        "  *   O número de classes do problema, ou seja, quantos tipos de imagens para serem classificadas. \n",
        "  *   O tamanho do kernel de convolução igual a 3;\n",
        "  *   O número de filtros para a camada 1, 2 e 3 respectivamentes igual a 32, 64 e 64;\n",
        "  *   O número de neurônios da primeira camada igual a 64.\n",
        "\n"
      ]
    },
    {
      "cell_type": "code",
      "metadata": {
        "id": "VNMP2eetd4gf"
      },
      "source": [
        "'''\n",
        "layers.Conv2D       -> Camada de convolução\n",
        "layers.MaxPooling2D -> Camada de \"pooling\"\n",
        "layers.Flatten      -> Camada de achatamento\n",
        "layers.Dense        -> Camada de neurônios\n",
        "'''\n",
        "\n",
        "## -- Seu código começa AQUI -- ##\n",
        "\n",
        "# Número de classes para classificar\n",
        "n_classes = None\n",
        "\n",
        "# Tamanho do kernel de convolução\n",
        "kernel_size = None\n",
        "\n",
        "# Número de filtros em cada camada de convolução\n",
        "n_filtros_conv = [None, None, None]\n",
        "\n",
        "# Número de neurônios em cada camada densa\n",
        "n_filtros_dense = [None, n_classes]\n",
        "\n",
        "## -- Seu código termina AQUI -- ##\n",
        "\n",
        "# Cria o modelo\n",
        "modelo = models.Sequential()\n",
        "modelo.add(layers.Conv2D(n_filtros_conv[0], kernel_size, activation='relu', input_shape=(32, 32, 3)))\n",
        "modelo.add(layers.MaxPooling2D((2, 2)))\n",
        "modelo.add(layers.Conv2D(n_filtros_conv[1], kernel_size, activation='relu'))\n",
        "modelo.add(layers.MaxPooling2D((2, 2)))\n",
        "modelo.add(layers.Conv2D(n_filtros_conv[2], kernel_size, activation='relu'))\n",
        "modelo.add(layers.Flatten())\n",
        "modelo.add(layers.Dense(n_filtros_dense[0], activation='relu'))\n",
        "modelo.add(layers.Dense(n_filtros_dense[1]))\n",
        "\n",
        "# Mostra um resumo do modelo\n",
        "modelo.summary()"
      ],
      "execution_count": null,
      "outputs": []
    },
    {
      "cell_type": "markdown",
      "metadata": {
        "id": "rruwuT9cfoOa"
      },
      "source": [
        "#### *Compilar o modelo*\n",
        "\n",
        "Antes que o modelo esteja pronto para o treinamento, ele precisa de mais algumas configurações. Elas são adicionadas durante a etapa de compilação do modelo:\n",
        "\n",
        "*   Função de perda (*loss*) - mede a precisão do modelo durante o treinamento. Você deseja minimizar esta função para \"orientar\" o modelo na direção certa.\n",
        "*   Otimizador (*optimizer*) - É assim que o modelo é atualizado com base nos dados que vê e em sua função de perda.\n",
        "*   Métricas (*metrics*) - Usadas para monitorar as etapas de treinamento e teste. O exemplo a seguir usa a acurácia (*accuracy*), a fração das imagens que são classificadas corretamente.\n"
      ]
    },
    {
      "cell_type": "code",
      "metadata": {
        "id": "QkTVSqWJfoq3"
      },
      "source": [
        "# Compila o modelo com o otimizador Adam, \n",
        "# função de perda Sparse Categorical Crossentropy e \n",
        "# monitora o modelo através da acurácia\n",
        "modelo.compile(optimizer='adam',\n",
        "              loss=tf.keras.losses.SparseCategoricalCrossentropy(from_logits=True),\n",
        "              metrics=['accuracy'])\n",
        "\n",
        "print(\"Compilado!\")"
      ],
      "execution_count": null,
      "outputs": []
    },
    {
      "cell_type": "markdown",
      "metadata": {
        "id": "lUFQUblaioy3"
      },
      "source": [
        "#### *Treinar o modelo*\n",
        "\n",
        "O treinamento do modelo de rede neural requer as seguintes etapas:\n",
        "\n",
        "1.  Alimente os dados de treinamento para o modelo. Neste exemplo, os dados de treinamento estão nos arrays `train_images` e `train_labels`.\n",
        "2.  O modelo aprende a associar imagens e rótulos.\n",
        "3.  Você pede ao modelo para fazer previsões sobre um conjunto de teste - neste exemplo, o array `test_images`.\n",
        "4.  Verifique se as previsões correspondem aos rótulos da matriz `test_labels`.\n",
        "\n",
        "#### *Alimentar o modelo*\n",
        "\n",
        "Para iniciar o treinamento, chame o método `model.fit`, assim chamado porque \"ajusta\" (\"*fita*\" no linguajar informal) o modelo aos dados de treinamento:\n",
        "\n",
        "**Exercício:**\n",
        "\n",
        "6. Configure o modelo para treinar 10 épocas."
      ]
    },
    {
      "cell_type": "code",
      "metadata": {
        "id": "ir6S0GuXipIL"
      },
      "source": [
        "## -- Seu código começa AQUI -- ##\n",
        "\n",
        "# Configura quantas épocas o modelo irá treinar\n",
        "n_epochs = None\n",
        "\n",
        "## -- Seu código termina AQUI -- ##\n",
        "\n",
        "# Começa o treinamento. \n",
        "# Ajusta a rede baseado nas imagens de treinamento e seus respectivos rótulos \n",
        "metricas = modelo.fit(train_images, train_labels, epochs=n_epochs)"
      ],
      "execution_count": null,
      "outputs": []
    },
    {
      "cell_type": "markdown",
      "metadata": {
        "id": "Y1-DXRtvmHoZ"
      },
      "source": [
        "Conforme o modelo treina, as métricas de perda (*loss*) e acurácia (*accuracy*) são exibidas. Este modelo atinge uma precisão de cerca de 0,80 (ou 80%) **nos dados de treinamento**.\n",
        "\n",
        "#### *Avaliar o treinamento*\n",
        "\n",
        "Vamos mostrar os gráficos de perda e acurácia para os dados de treinamento.\n",
        "\n",
        "**Exercício:**\n",
        "\n",
        "7. O que se pode concluir através desses dois gráficos?"
      ]
    },
    {
      "cell_type": "code",
      "metadata": {
        "id": "9C6ApLjjmH0h"
      },
      "source": [
        "plt.figure(figsize=(10,5))\n",
        "plt.subplot(1,2,1)\n",
        "plt.plot(metricas.history['accuracy'], label='Acurácia')\n",
        "plt.xlabel('Épocas')\n",
        "plt.ylabel('Acurácia')\n",
        "plt.ylim([0.5, 1])\n",
        "plt.legend(loc='upper right')\n",
        "\n",
        "plt.subplot(1,2,2)\n",
        "plt.plot(metricas.history['loss'], label='Perda')\n",
        "plt.xlabel('Épocas')\n",
        "plt.ylabel('Perda')\n",
        "plt.legend(loc='upper right');\n",
        "\n",
        "## -- Seu comentário começa AQUI -- ##\n",
        "\n",
        "## -- Seu comentário termina AQUI -- ##"
      ],
      "execution_count": null,
      "outputs": []
    },
    {
      "cell_type": "markdown",
      "metadata": {
        "id": "wTUy1DdGpioo"
      },
      "source": [
        "#### *Avaliar o modelo*\n",
        "\n",
        "Vamos avaliar como o modelo é executado no conjunto de dados de teste. Para isso, vamos utilizar o método `model.evaluate` com as matrizes `test_images` e  `test_labels`.\n",
        "\n",
        "**Exercício:**\n",
        "\n",
        "8. Por que a acurácia do conjunto de validação é menor que a do conjunto de teste?\n",
        "\n",
        "<details>  \n",
        "<summary>\n",
        "  <font size=\"3\" color=\"darkblue\"><b>Dicas:</b></font>\n",
        "</summary>\n",
        "\n",
        "* Isso pode acontecer quando seu modelo fica viciado (overfitting) no conjunto de teste. Veja esse [link](https://www.tensorflow.org/tutorials/keras/overfit_and_underfit).\n"
      ]
    },
    {
      "cell_type": "code",
      "metadata": {
        "id": "mNLZqR1kpi2u"
      },
      "source": [
        "test_loss, test_acc = modelo.evaluate(test_images,  test_labels)\n",
        "\n",
        "assert test_acc > 0.7\n",
        "\n",
        "print(\"Parabéns, seu método está com %.2f%% de acurácia\"%(test_acc * 100))\n",
        "\n",
        "## -- Seu comentário começa AQUI -- ##\n",
        "\n",
        "## -- Seu comentário termina AQUI -- ##"
      ],
      "execution_count": null,
      "outputs": []
    },
    {
      "cell_type": "markdown",
      "metadata": {
        "id": "BaHwsVdLsn6B"
      },
      "source": [
        "#### *Fazer previsões*\n",
        "\n",
        "Com o modelo treinado, você pode usá-lo para fazer previsões sobre algumas imagens. Para isso, vamos utilizar o método `model.predict`. O modelo tem como saída, dados do tipo [logits](https://developers.google.com/machine-learning/glossary#logits). Para transformar esses dados em probabilidades, anexe uma camada [softmax](https://www.tensorflow.org/api_docs/python/tf/keras/layers/Softmax), que são mais fáceis de interpretar."
      ]
    },
    {
      "cell_type": "code",
      "metadata": {
        "id": "dJAqKTsEVLUj"
      },
      "source": [
        "#@title Escolha uma imagem para a previsão { run: \"auto\" }\n",
        "\n",
        "imgIndex = 9210 #@param {type:\"slider\", min:0, max:9999, step:1}\n",
        "\n",
        "imgInput = test_images[imgIndex:imgIndex+1,:]\n",
        "\n",
        "# Anexa uma camada softmax\n",
        "modelo_probabilidade = tf.keras.Sequential([modelo, tf.keras.layers.Softmax()])\n",
        "\n",
        "# Faz a previsao\n",
        "probs = modelo_probabilidade.predict(imgInput)\n",
        "\n",
        "# Encontra qual o índice com a maior probabilidade\n",
        "classe_pred = np.argmax(probs)\n",
        "\n",
        "# Mostra a figura\n",
        "plt.figure(figsize=(2,2))\n",
        "plt.imshow(imgInput[0,:], cmap=plt.cm.binary)\n",
        "plt.xticks([])\n",
        "plt.yticks([])\n",
        "plt.grid(False)\n",
        "string = class_names[classe_pred] + \" {:.2f}%\".format(probs[0,classe_pred] *100)\n",
        "\n",
        "\n",
        "# A imagem foi classificada corretamente? \n",
        "if class_names[test_labels[imgIndex][0]] == class_names[classe_pred]:\n",
        "  # Se sim, mostre a legenda como verde\n",
        "  plt.xlabel(string ,color='green')\n",
        "else:\n",
        "  # Se nao, mostre a legenda como vermelha\n",
        "  plt.xlabel(string,color='red')\n"
      ],
      "execution_count": null,
      "outputs": []
    }
  ]
}