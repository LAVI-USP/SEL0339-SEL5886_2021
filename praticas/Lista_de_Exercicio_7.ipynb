{
  "nbformat": 4,
  "nbformat_minor": 0,
  "metadata": {
    "colab": {
      "name": "Lista_de_Exercicio_7.ipynb",
      "provenance": [],
      "collapsed_sections": [
        "NyvxHviMpShq"
      ]
    },
    "kernelspec": {
      "name": "python3",
      "display_name": "Python 3"
    }
  },
  "cells": [
    {
      "cell_type": "markdown",
      "metadata": {
        "id": "kGlmyFQMaR-U"
      },
      "source": [
        "# Lista de Exercício 7\n",
        "### Introdução à Visão Computacional (SEL0339/SEL5886)\n",
        "\n",
        "**Instruções:**\n",
        "\n",
        " 1. Esta lista consiste de 3 exercícios.\n",
        " 1. Deve-se colocar comentários nos códigos desenvolvidos.\n",
        " 1. As perguntas devem ser respondidas também como comentários no arquivo.\n",
        " 1. Colocar seu nome e número USP abaixo.\n",
        " 1. Quaisquer problemas na execução das listas, entrar em contato com os monitores.\n",
        " 1. Depois de terminado os exercícios, deve ser gerado um arquivo **extensão .ipynb** para ser enviado ao professor pelo E-DISCIPLINAS da disciplina até a data máxima de entrega.\n",
        " 1. Caso não seja enviado, o aluno ficará sem nota.\n",
        "\n",
        "\n",
        "---\n",
        "\n",
        "\n",
        "\n",
        " <table class=\"tfo-notebook-buttons\" align=\"left\">\n",
        "  <td>\n",
        "    <a target=\"_blank\" href=\"https://colab.research.google.com/github/LAVI-USP/SEL0339-SEL5886_2021/blob/main/praticas/Lista_de_Exercicio_7.ipynb\"><img src=\"https://www.tensorflow.org/images/colab_logo_32px.png\" />Executar no Google Colab</a>\n",
        "  </td>\n",
        "  <td>\n",
        "    <a target=\"_blank\" href=\"https://github.com/LAVI-USP/SEL0339-SEL5886_2021/blob/main/praticas/Lista_de_Exercicio_7.ipynb\"><img src=\"https://www.tensorflow.org/images/GitHub-Mark-32px.png\" />Ver codigo fonte no GitHub</a>\n",
        "  </td>\n",
        "</table>\n"
      ]
    },
    {
      "cell_type": "markdown",
      "metadata": {
        "id": "L3qYz1dB-tlT"
      },
      "source": [
        "`Nome: `\n",
        "\n",
        "`Número USP: `\n"
      ]
    },
    {
      "cell_type": "markdown",
      "metadata": {
        "id": "b9uBe7nevota"
      },
      "source": [
        "### Introdução:\n",
        "\n",
        "\n",
        "Vamos importar as bibliotecas que iremos utilizar:"
      ]
    },
    {
      "cell_type": "code",
      "metadata": {
        "id": "xnKV2As4aCX1"
      },
      "source": [
        "import numpy as np\n",
        "import matplotlib.pyplot as plt\n",
        "import cv2 as cv\n",
        "\n",
        "from skimage.transform import hough_circle, hough_circle_peaks"
      ],
      "execution_count": null,
      "outputs": []
    },
    {
      "cell_type": "markdown",
      "metadata": {
        "id": "NyvxHviMpShq"
      },
      "source": [
        "#### **Atenção**: os códigos abaixo são para fazer o download das imagens (EXECUTE-OS). Os mesmos não fazem parte dessa prática. "
      ]
    },
    {
      "cell_type": "code",
      "metadata": {
        "id": "Amk5CM273Afp"
      },
      "source": [
        "import urllib.request\n",
        "\n",
        "try:\n",
        "  urllib.request.urlretrieve(\"https://github.com/LAVI-USP/SEL0339-SEL5886_2021/raw/main/imagens/pratica_07/test_01.png\", \"test_01.png\")\n",
        "except:\n",
        "  print(\"[ERRO] Não foi possível fazer o download das imagens dessa prática. Entre em contato com o monitor\")\n",
        "\n",
        "try:\n",
        "  urllib.request.urlretrieve(\"https://github.com/LAVI-USP/SEL0339-SEL5886_2021/raw/main/imagens/pratica_07/house.tif\", \"house.tif\")\n",
        "except:\n",
        "  print(\"[ERRO] Não foi possível fazer o download das imagens dessa prática. Entre em contato com o monitor\")\n",
        "\n",
        "try:\n",
        "  urllib.request.urlretrieve(\"https://github.com/LAVI-USP/SEL0339-SEL5886_2021/raw/main/imagens/pratica_07/wirebond_mask.tif\", \"wirebond_mask.tif\")\n",
        "except:\n",
        "  print(\"[ERRO] Não foi possível fazer o download das imagens dessa prática. Entre em contato com o monitor\")\n",
        "\n",
        "\n",
        "try:\n",
        "  urllib.request.urlretrieve(\"https://github.com/LAVI-USP/SEL0339-SEL5886_2021/raw/main/imagens/pratica_07/notas_functions.py\", \"notas_functions.py\")\n",
        "except:\n",
        "  print(\"[ERRO] Não foi possível fazer o download das imagens dessa prática. Entre em contato com o monitor\")"
      ],
      "execution_count": null,
      "outputs": []
    },
    {
      "cell_type": "markdown",
      "metadata": {
        "id": "oppInBPkOF4r"
      },
      "source": [
        "### 1) Filtros derivativos de $1^a$ e $2^a$ ordem\n",
        "\n",
        "A equação para o cálculo da $1^a$ derivada em relação a $y$ é dada por:\n",
        "\n",
        "\\begin{equation}\n",
        "\\frac{\\partial f(x,y)}{\\partial y} = f(x,y+1) - f(x,y)\n",
        "\\end{equation}\n",
        "\n",
        "Já a equação para o cálculo da $2^a$ derivada em relação a $y$ é dada por:\n",
        "\n",
        "\\begin{equation}\n",
        "\\frac{\\partial^2 f(x,y)}{\\partial y^2} = f(x,y+1) - 2f(x,y) + f(x,y-1)\n",
        "\\end{equation}\n",
        "\n",
        "**Exercício:**\n",
        "\n",
        "1. Crie um *kernel* para o filtro derivativo de $1^a$ ordem e um *kernel* para o de $2^a$ ordem.\n",
        "\n",
        "2. Aplique os *kernels* para detectar as bordas na vertical, ou seja, no eixo $y$. A imagem já está criada no código.\n",
        "\n",
        "3. Mostre a imagem original e ambos os resultados utilizando `subplot`. \n",
        "\n",
        "4. Utilize a função `plt.plot` para mostrar o perfil das bordas detectadas em ambos os casos. Isso pode ser feito através de qualquer linha da imagem resultante. Utilize um `subplot` com 3 linhas e 1 coluna, sendo a primeira linha para o perfil da imagem original, a segunda para o filtro de $1^a$ ordem e a terceira para o filtro de $2^a$ ordem.\n",
        "\n",
        "<details>    \n",
        "<summary>\n",
        "    <font size=\"3\" color=\"darkblue\"><b>Dicas:</b></font>\n",
        "</summary>\n",
        "\n",
        "*  Você pode utilizar a função [cv.filter2D](https://docs.opencv.org/3.4/d4/d86/group__imgproc__filter.html#ga27c049795ce870216ddfb366086b5a04) para fazer a filtragem. \n",
        "\n",
        "*  Você pode utilizar a função [plt.plot](https://matplotlib.org/3.3.2/api/_as_gen/matplotlib.pyplot.plot.html) para mostrar os gráficos na tela. Você pode fazer a leitura de qualquer linha da imagem para mostrar o gráfico. \n",
        "\n",
        "*Ex:*\n",
        "``` python\n",
        "plt.plot(x,y)\n",
        "plt.plot(y) # Dessa maneira a função cria um range para o x\n",
        "cv.filter2D(myImg, -1, myKernel)\n",
        "```"
      ]
    },
    {
      "cell_type": "code",
      "metadata": {
        "id": "LEwr2terYQJb"
      },
      "source": [
        "## -- Seu código começa AQUI -- ##\n",
        "\n",
        "\n",
        "## -- Seu código termina AQUI -- ##\n"
      ],
      "execution_count": null,
      "outputs": []
    },
    {
      "cell_type": "markdown",
      "metadata": {
        "id": "IHz3lrkyumoo"
      },
      "source": [
        "### 2) Detector de bordas (Prewitt e Sobel)\n",
        "\n",
        "**Exercício:**\n",
        "\n",
        "1. Aplicar o detector de bordas de Prewitt e Sobel na imagem ```wirebond_mask.tif``` para detectar as bordas horizontais e depois as verticais. Note que vários *kernels* foram fornecidos abaixo. Alguns serão utilizados no próximo exercício também.\n",
        "\n",
        "2. Mostre as 4 imagens resultantes e comente os resultados encontrados.\n",
        "\n",
        "<details>    \n",
        "<summary>\n",
        "    <font size=\"3\" color=\"darkblue\"><b>Dicas:</b></font>\n",
        "</summary>\n",
        "\n",
        "*  Nós criamos uma lista contendo os *kernels* de cada método. Você pode criar um laço de repetição para pegar cada kernel da lista. Segue abaixo um exemplo de um `for loop` em uma lista.\n",
        "\n",
        "*Ex:*\n",
        "``` python\n",
        "kernel_lista = [kernel1,kernel2,kernel3]\n",
        "for kernel in kernel_lista:\n",
        "  print(kernel)\n",
        "# Resultado do print:   \n",
        "# kernel1\n",
        "# kernel2\n",
        "# kernel3\n",
        "```"
      ]
    },
    {
      "cell_type": "code",
      "metadata": {
        "id": "Y8WjFiu1b4_h"
      },
      "source": [
        "## -- Seu código termina AQUI -- ##\n",
        "\n",
        "\n",
        "## -- Seu código termina AQUI -- ##"
      ],
      "execution_count": null,
      "outputs": []
    },
    {
      "cell_type": "markdown",
      "metadata": {
        "id": "vDLZGGq-b6YL"
      },
      "source": [
        "### 3) Detector de bordas (Sobel e Laplaciano)\n",
        "\n",
        "**Exercício:**\n",
        "\n",
        "1. Aplicar o detector de bordas de Sobel na imagem ```house.tif``` para detectar todas as bordas. Os *kernels* foram definidos no exercício anterior. \n",
        "\n",
        "  *   Para cada *kernel*, aplique um *threshold* no resultado do filtro a fim de tentar manter somente as bordas que aquele filtro foi desenvolvido para detectar. Nas dicas deixamos um valor sugerido;\n",
        "  *   Some o resultado obtido por cada *kernel* em uma variável chamada `sobel_sum`.\n",
        "\n",
        "2. Mostre os 6 resultados anteriores e um `subplot`;\n",
        "\n",
        "3. Aplique o detector de bordas Laplaciano na imagem ```house.tif```. Criei um `sobplot` para mostrar a imagem original, a soma de todos os resultados de Sobel (`sobel_sum`) e por fim o resultado do Laplaciano. O que se pode concluir?\n",
        "\n",
        "<details>    \n",
        "<summary>\n",
        "    <font size=\"3\" color=\"darkblue\"><b>Dicas:</b></font>\n",
        "</summary>\n",
        "\n",
        "*  O valor de *threshold* sugerido é 220. Esse não é um valor ótimo para cada *kernel*, mas sim um valor médio para todos os *kernels* no geral.\n",
        "\n",
        "*  Faça um `for loop` para aplicar os filtros de Sobel. Isso simplifica o código\n",
        "\n",
        "*Ex:*\n",
        "``` python\n",
        "kernel_lista = [kernel1,kernel2,kernel3]\n",
        "for kernel in kernel_lista:\n",
        "  print(kernel)\n",
        "# Resultado do print:   \n",
        "# kernel1\n",
        "# kernel2\n",
        "# kernel3\n",
        "```"
      ]
    },
    {
      "cell_type": "code",
      "metadata": {
        "id": "kyfCSc2_lFmz"
      },
      "source": [
        "## -- Seu código começa AQUI -- ##\n",
        "\n",
        "\n",
        "## -- Seu código termina AQUI -- ##"
      ],
      "execution_count": null,
      "outputs": []
    }
  ]
}