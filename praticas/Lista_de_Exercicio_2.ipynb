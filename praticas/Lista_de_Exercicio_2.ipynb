{
  "nbformat": 4,
  "nbformat_minor": 0,
  "metadata": {
    "colab": {
      "name": "Lista_de_Exercicio_2.ipynb",
      "provenance": [],
      "collapsed_sections": [
        "UwovOaPtUIFf"
      ]
    },
    "kernelspec": {
      "name": "python3",
      "display_name": "Python 3"
    }
  },
  "cells": [
    {
      "cell_type": "markdown",
      "metadata": {
        "id": "kGlmyFQMaR-U"
      },
      "source": [
        "# Lista de Exercício 2\n",
        "### Processamento Digital de Imagens (SEL03399/SEL5886)\n",
        "\n",
        "**Instruções:**\n",
        "\n",
        " 1. Esta lista consiste de 3 exercícios.\n",
        " 1. Deve-se colocar comentários nos códigos desenvolvidos.\n",
        " 1. As perguntas devem ser respondidas também como comentários no arquivo.\n",
        " 1. Colocar seu nome e número USP abaixo.\n",
        " 1. Quaisquer problemas na execução das listas, entrar em contato com os monitores.\n",
        " 1. Depois de terminado os exercícios, deve ser gerado um arquivo **extensão .ipynb** para ser enviado ao professor pelo E-DISCIPLINAS da disciplina até a data máxima de entrega.\n",
        " 1. Caso não seja enviado, o aluno ficará sem nota.\n",
        "\n",
        "\n",
        "---\n",
        "\n",
        "\n",
        "\n",
        " <table class=\"tfo-notebook-buttons\" align=\"left\">\n",
        "  <td>\n",
        "    <a target=\"_blank\" href=\"https://colab.research.google.com/github/LAVI-USP/SEL0339-SEL5886_2021/blob/main/praticas/Lista_de_Exercicio_2.ipynb\"><img src=\"https://www.tensorflow.org/images/colab_logo_32px.png\" />Executar no Google Colab</a>\n",
        "  </td>\n",
        "  <td>\n",
        "    <a target=\"_blank\" href=\"https://github.com/LAVI-USP/SEL0339-SEL5886_2021/blob/main/praticas/Lista_de_Exercicio_2.ipynb\"><img src=\"https://www.tensorflow.org/images/GitHub-Mark-32px.png\" />Ver codigo fonte no GitHub</a>\n",
        "  </td>\n",
        "</table>\n"
      ]
    },
    {
      "cell_type": "markdown",
      "metadata": {
        "id": "L3qYz1dB-tlT"
      },
      "source": [
        "`Nome: `\n",
        "\n",
        "`Número USP: `"
      ]
    },
    {
      "cell_type": "markdown",
      "metadata": {
        "id": "b9uBe7nevota"
      },
      "source": [
        "### Introdução:\n",
        "\n",
        "Nessa lista de exercícios vamos utilizar o [OpenCV](http://opencv.org) (*Open Source Computer Vision Library*), uma biblioteca de código aberto que inclui várias centenas de algoritmos de visão computacional. [Aqui](https://docs.opencv.org/4.2.0/d6/d00/tutorial_py_root.html) podem ser encontrados alguns tutoriais de Python com o OpenCV.\n",
        "\n",
        "Nesta lista serão abordados os temas de resolução espacial e resolução de escala de cinza.\n",
        "\n",
        "Vamos importar a biblioteca do OpenCV com o apelido ```cv```:"
      ]
    },
    {
      "cell_type": "code",
      "metadata": {
        "id": "xnKV2As4aCX1"
      },
      "source": [
        "import cv2 as cv"
      ],
      "execution_count": null,
      "outputs": []
    },
    {
      "cell_type": "markdown",
      "metadata": {
        "id": "NyvxHviMpShq"
      },
      "source": [
        "#### **Atenção**: os códigos abaixo são para fazer o download das imagens (EXECUTE-OS). Os mesmos não fazem parte dessa prática. "
      ]
    },
    {
      "cell_type": "code",
      "metadata": {
        "id": "Amk5CM273Afp"
      },
      "source": [
        "import urllib.request\n",
        "\n",
        "try:\n",
        "  urllib.request.urlretrieve(\"https://github.com/LAVI-USP/SEL0339-SEL5886_2021/raw/main/imagens/pratica_02/cameraman.tif\", \"cameraman.tif\")\n",
        "except:\n",
        "  print(\"[ERRO] Não foi possível fazer o download das imagens dessa prática. Entre em contato com o monitor\")\n",
        "\n",
        "try:\n",
        "  urllib.request.urlretrieve(\"https://github.com/LAVI-USP/SEL0339-SEL5886_2021/raw/main/imagens/pratica_02/angiography.tif\", \"angiography.tif\")\n",
        "except:\n",
        "  print(\"[ERRO] Não foi possível fazer o download das imagens dessa prática. Entre em contato com o monitor\")\n",
        "\n",
        "try:\n",
        "  urllib.request.urlretrieve(\"https://github.com/LAVI-USP/SEL0339-SEL5886_2021/raw/main/imagens/pratica_02/ruler.jpg\", \"ruler.jpg\")\n",
        "except:\n",
        "  print(\"[ERRO] Não foi possível fazer o download das imagens dessa prática. Entre em contato com o monitor\")"
      ],
      "execution_count": null,
      "outputs": []
    },
    {
      "cell_type": "markdown",
      "metadata": {
        "id": "ppupxqIr71zm"
      },
      "source": [
        "### 1) Mudanças na resolução espacial\n",
        "\n",
        "1. Na lista de exercícios anterior, utilizamos o matplotlib para carregar imagens. Também podemos utilizar a função [cv.imread](https://docs.opencv.org/2.4/modules/highgui/doc/reading_and_writing_images_and_video.html?highlight=imread#imread) para essa tarefa. Carregue o arquivo de imagem ```cameraman.tif```  utilizando a função  ```cv.imread``` e mostre seu tamanho.\n",
        "2. Agora, vamos utilizar a função [cv.resize](https://docs.opencv.org/2.4/modules/imgproc/doc/geometric_transformations.html#void%20resize(InputArray%20src,%20OutputArray%20dst,%20Size%20dsize,%20double%20fx,%20double%20fy,%20int%20interpolation)) para mudar a resolução espacial da imagem lida. Pesquise sobre essa função e utilize-a para reduzir o tamanho da imagem de ```256x256``` para:\n",
        "\n",
        "  - ```200x200```\n",
        "  - ```100x100```\n",
        "  - ```50x50```\n",
        "  - ```30x30```\n",
        "  \n",
        "3. Mostrar todas as imagens usando janelas do mesmo tamanho e comentar os resultados.\n",
        "\n",
        "Obs: Comente os resultados!"
      ]
    },
    {
      "cell_type": "code",
      "metadata": {
        "id": "v3zOxtTSjJh8"
      },
      "source": [
        "## -- TODO -- ##\n",
        "\n"
      ],
      "execution_count": null,
      "outputs": []
    },
    {
      "cell_type": "markdown",
      "metadata": {
        "id": "OcMh8xfE_EDX"
      },
      "source": [
        "### 2) Mudanças na resolução de escala de cinza\n",
        "\n",
        "1. Agora vamos reduzir a escala de níveis de cinza da imagem. Para isso vamos criar uma função de nome ```transformaImg```.  Já disponibilizamos o escopo da função e uma descrição das entradas e saídas. Comente o que cada linha da função está exercendo. \n",
        "\n",
        "2. Agora utilize a mesma e reduza a escala de níveis de cinza da imagem ```angiography.tif``` de 256 níveis para:\n",
        "  - 128\n",
        "  - 64\n",
        "  - 32\n",
        "  - 16\n",
        "  - 8\n",
        "  - 4\n",
        "  - 2\n",
        "\n",
        "3. Mostrar todas as imagens (em uma mesma escala) e comentar os resultados.\n",
        "\n",
        "Obs: Comente os resultados!"
      ]
    },
    {
      "cell_type": "code",
      "metadata": {
        "id": "7ijwVq_bieYM"
      },
      "source": [
        "import numpy as np\n",
        "\n",
        "def transformaImg(img, grayLevel):\n",
        "  '''\n",
        "  Entrada:\n",
        "    - img: Imagem de entrada (uint8).\n",
        "    - grayLevel: Nova escala de níveis de cinza desejada (uint8).\n",
        "  \n",
        "  Saída:\n",
        "    - res: Imagem com nova escala de cinza (uint8).\n",
        "  '''\n",
        "\n",
        "  img_in = img.copy().astype('float32')\n",
        "  res = np.round( img_in * (grayLevel - 1) / 255.);\n",
        "  res = np.round( res * 255. / (grayLevel - 1));\n",
        "  res = res.astype('uint8')\n",
        "\n",
        "  return res\n",
        "\n",
        "## -- TODO -- ##\n"
      ],
      "execution_count": null,
      "outputs": []
    },
    {
      "cell_type": "markdown",
      "metadata": {
        "id": "5A1nGUXRLJRZ"
      },
      "source": [
        "### 3) Resolução espacial em *dots per inch* (DPI)\n",
        "\n",
        "1. Nós temos no laboratório um *scanner* no qual não sabemos sua resolução espacial. Para descobri-la na escala de DPI, escaneamos uma régua e disponibilizamos a imagem para vocês calcularem. Suponha que o *scanner* tenha fator de escala de 1:1, ou seja, a régua tem tamanho real na imagem. Calcule o DPI da *scanner* através do arquivo ```ruler.jpg```.\n",
        "\n",
        "Obs: Comente os resultados!"
      ]
    },
    {
      "cell_type": "code",
      "metadata": {
        "id": "ghO24YN_Va1c"
      },
      "source": [
        "## -- TODO -- ##\n"
      ],
      "execution_count": null,
      "outputs": []
    },
    {
      "cell_type": "markdown",
      "metadata": {
        "id": "UwovOaPtUIFf"
      },
      "source": [
        "### 4) Extra (exercício opcional)\n",
        "\n",
        "É possível criar uma animação com um \"slider\" para escolher valores de entrada para uma variável escolhida. Fizemos um exemplo que cria uma imagem degradê até o nível de cinza escolhido. Você pode tentar criar uma animação que modifique a resolução espacial da imagem conforme o usuário mude o slider."
      ]
    },
    {
      "cell_type": "code",
      "metadata": {
        "id": "ExESH4iNrY-n",
        "colab": {
          "base_uri": "https://localhost:8080/",
          "height": 323
        },
        "outputId": "2e78e46a-f677-400c-b624-332f8a5ebbb7"
      },
      "source": [
        "#@title Nível de cinza { run: \"auto\" }\n",
        "\n",
        "grayLevel = 206 #@param {type:\"slider\", min:0, max:256, step:1}\n",
        "\n",
        "img = np.arange(0,grayLevel, dtype='uint8')\n",
        "img = np.tile(img, (img.shape[0],1))\n",
        "\n",
        "plt.figure(figsize = (5,5))\n",
        "plt.imshow(img, 'gray', vmin=0, vmax=255);"
      ],
      "execution_count": null,
      "outputs": [
        {
          "output_type": "display_data",
          "data": {
            "image/png": "[encoded data removed]",
            "text/plain": [
              "<Figure size 360x360 with 1 Axes>"
            ]
          },
          "metadata": {
            "needs_background": "light"
          }
        }
      ]
    }
  ]
}
