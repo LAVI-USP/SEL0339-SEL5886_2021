{
  "nbformat": 4,
  "nbformat_minor": 0,
  "metadata": {
    "colab": {
      "name": "Lista_de_Exercicio_8.ipynb",
      "provenance": [],
      "collapsed_sections": [
        "NyvxHviMpShq"
      ],
      "toc_visible": true
    },
    "kernelspec": {
      "name": "python3",
      "display_name": "Python 3"
    }
  },
  "cells": [
    {
      "cell_type": "markdown",
      "metadata": {
        "id": "kGlmyFQMaR-U"
      },
      "source": [
        "# Lista de Exercício 8\n",
        "### Introdução à Visão Computacional (SEL0339/SEL5886)\n",
        "\n",
        "**Instruções:**\n",
        "\n",
        " 1. Esta lista consiste de 5 exercícios.\n",
        " 1. Deve-se colocar comentários nos códigos desenvolvidos.\n",
        " 1. As perguntas devem ser respondidas também como comentários no arquivo.\n",
        " 1. Colocar seu nome e número USP abaixo.\n",
        " 1. Quaisquer problemas na execução das listas, entrar em contato com os monitores.\n",
        " 1. Depois de terminado os exercícios, deve ser gerado um arquivo **extensão .ipynb** para ser enviado ao professor pelo E-DISCIPLINAS da disciplina até a data máxima de entrega.\n",
        " 1. Caso não seja enviado, o aluno ficará sem nota.\n",
        "\n",
        "\n",
        "---\n",
        "\n",
        "\n",
        "\n",
        " <table class=\"tfo-notebook-buttons\" align=\"left\">\n",
        "  <td>\n",
        "    <a target=\"_blank\" href=\"https://colab.research.google.com/github/LAVI-USP/SEL0339-SEL5886_2021/blob/main/praticas/Lista_de_Exercicio_8.ipynb\"><img src=\"https://www.tensorflow.org/images/colab_logo_32px.png\" />Executar no Google Colab</a>\n",
        "  </td>\n",
        "  <td>\n",
        "    <a target=\"_blank\" href=\"https://github.com/LAVI-USP/SEL0339-SEL5886_2021/blob/main/praticas/Lista_de_Exercicio_8.ipynb\"><img src=\"https://www.tensorflow.org/images/GitHub-Mark-32px.png\" />Ver codigo fonte no GitHub</a>\n",
        "  </td>\n",
        "</table>\n"
      ]
    },
    {
      "cell_type": "markdown",
      "metadata": {
        "id": "L3qYz1dB-tlT"
      },
      "source": [
        "`Nome: `\n",
        "\n",
        "`Número USP: `"
      ]
    },
    {
      "cell_type": "markdown",
      "metadata": {
        "id": "b9uBe7nevota"
      },
      "source": [
        "### Introdução:\n",
        "\n",
        "\n",
        "Vamos importar as bibliotecas que iremos utilizar:"
      ]
    },
    {
      "cell_type": "code",
      "metadata": {
        "id": "xnKV2As4aCX1"
      },
      "source": [
        "import numpy as np\n",
        "import matplotlib.pyplot as plt\n",
        "import cv2 as cv"
      ],
      "execution_count": null,
      "outputs": []
    },
    {
      "cell_type": "markdown",
      "metadata": {
        "id": "NyvxHviMpShq"
      },
      "source": [
        "#### **Atenção**: os códigos abaixo são para fazer o download das imagens (EXECUTE-OS). Os mesmos não fazem parte dessa prática. "
      ]
    },
    {
      "cell_type": "code",
      "metadata": {
        "id": "Amk5CM273Afp"
      },
      "source": [
        "import urllib.request\n",
        "\n",
        "try:\n",
        "  urllib.request.urlretrieve(\"https://github.com/LAVI-USP/SEL0339-SEL5886_2021/raw/main/imagens/pratica_08/cores.jpeg\", \"cores.jpeg\")\n",
        "except:\n",
        "  print(\"[ERRO] Não foi possível fazer o download das imagens dessa prática. Entre em contato com o monitor\")\n",
        "\n",
        "try:\n",
        "  urllib.request.urlretrieve(\"https://github.com/LAVI-USP/SEL0339-SEL5886_2021/raw/main/imagens/pratica_08/abobora_ruidosa.tif\", \"abobora_ruidosa.tif\")\n",
        "except:\n",
        "  print(\"[ERRO] Não foi possível fazer o download das imagens dessa prática. Entre em contato com o monitor\")\n",
        "\n",
        "try:\n",
        "  urllib.request.urlretrieve(\"https://github.com/LAVI-USP/SEL0339-SEL5886_2021/raw/main/imagens/pratica_08/abobora.tif\", \"abobora.tif\")\n",
        "except:\n",
        "  print(\"[ERRO] Não foi possível fazer o download das imagens dessa prática. Entre em contato com o monitor\")\n",
        "\n",
        "try:\n",
        "  urllib.request.urlretrieve(\"https://github.com/LAVI-USP/SEL0339-SEL5886_2021/raw/main/imagens/pratica_08/sudoku.tif\", \"sudoku.tif\")\n",
        "except:\n",
        "  print(\"[ERRO] Não foi possível fazer o download das imagens dessa prática. Entre em contato com o monitor\")\n",
        "\n",
        "try:\n",
        "  urllib.request.urlretrieve(\"https://github.com/LAVI-USP/SEL0339-SEL5886_2021/raw/main/imagens/pratica_08/moedas.tif\", \"moedas.tif\")\n",
        "except:\n",
        "  print(\"[ERRO] Não foi possível fazer o download das imagens dessa prática. Entre em contato com o monitor\")\n",
        "\n"
      ],
      "execution_count": null,
      "outputs": []
    },
    {
      "cell_type": "markdown",
      "metadata": {
        "id": "fvHo7Slr5Jn4"
      },
      "source": [
        "### 1) Binarização (*Thresholding*) manual\n",
        "\n",
        "<center><img src=\"https://github.com/LAVI-USP/SEL0339-SEL5886_2021/raw/main/imagens/pratica_08/moedas_.png\" width=\"256\" height=\"256\"></center>\n",
        "\n",
        "<center><caption><b> Figura 1:</b> Imagem moedas.tif.</b></caption></center>\n",
        "\n",
        "**Exercício:**\n",
        "\n",
        "1. Binarizar a imagem `moedas.tif` utilizando o limiar de 32, 128 e 224 da escala de cinza;\n",
        "\n",
        "2. Binarizar a mesma imagem pelo método do vale. Mostrar o histograma equivalente para escolher o melhor valor de limiar e justifique a sua escolha;\n",
        "\n",
        "3. Binarizar a mesma imagem utilizando o método de Otsu;\n",
        "\n",
        "4. Qual a diferença entre as 3 metodologias? Conclua e comente os resultados. Mostre todos os resultados utilizando `subplots`.\n",
        "\n",
        "\n",
        "<details>    \n",
        "<summary>\n",
        "    <font size=\"3\" color=\"darkblue\"><b>Dicas:</b></font>\n",
        "</summary>\n",
        "\n",
        "*  Você pode utilizar a função [cv.threshold](https://docs.opencv.org/master/d7/d1b/group__imgproc__misc.html#gae8a4a146d1ca78c626a53577199e9c57) para a binarização com limiares pré-estabelecidos ou para o método de Otsu. Você também pode utilizar a função [threshold_otsu](https://scikit-image.org/docs/dev/api/skimage.filters.html#skimage.filters.threshold_otsu) da biblioteca `skimage` ([Exemplo](https://scikit-image.org/docs/dev/auto_examples/segmentation/plot_thresholding.html)).\n",
        "\n",
        "*Ex:*\n",
        "``` python\n",
        "# Global thresholding\n",
        "ret1,th1 = cv.threshold(myImg,thresh,maxVal,cv.THRESH_BINARY_INV)\n",
        "# Otsu's thresholding\n",
        "ret2,th2 = cv.threshold(myImg,0,maxVal,cv.THRESH_BINARY_INV+cv.THRESH_OTSU)\n",
        "```"
      ]
    },
    {
      "cell_type": "code",
      "metadata": {
        "id": "rm6K53YK_d02"
      },
      "source": [
        "## -- Seu código começa AQUI -- ##\n",
        "\n",
        "## -- Seu código começa AQUI -- ##"
      ],
      "execution_count": null,
      "outputs": []
    },
    {
      "cell_type": "markdown",
      "metadata": {
        "id": "qtoHQgKPBAYn"
      },
      "source": [
        "### 2) Influência da iluminação na segmentação\n",
        "\n",
        "<center><img src=\"https://github.com/LAVI-USP/SEL0339-SEL5886_2021/raw/main/imagens/pratica_08/abobora_.png\" width=\"256\" height=\"256\"></center>\n",
        "\n",
        "<center><caption><b> Figura 2:</b> Imagem abobora.tif.</b></caption></center>\n",
        "\n",
        "\n",
        "**Exercício:**\n",
        "\n",
        "1. Utilize o método de Otsu para binarizar a imagem `abobora.tif`;\n",
        "\n",
        "2. Comente sobre o resultado;\n",
        "\n",
        "3. Divida a imagem em 8, 32 e 256 sub-imagens, aplique o método de Otsu em cada uma delas e remonte a imagem final (Tenha em mente que a divisão deve ser feita de forma a segmentar em sub-regiões com o máximo de características semelhantes, de forma a se aproveitar da melhor forma o método utilizado); \n",
        "\n",
        "4. Apresente os resultados obtidos, compare-os e conclua."
      ]
    },
    {
      "cell_type": "code",
      "metadata": {
        "id": "OfMOl7F9A6VI"
      },
      "source": [
        "## -- Seu código começa AQUI -- ##\n",
        "\n",
        "## -- Seu código começa AQUI -- ##"
      ],
      "execution_count": null,
      "outputs": []
    },
    {
      "cell_type": "markdown",
      "metadata": {
        "id": "j9z00MHmByzu"
      },
      "source": [
        "### 3) Influência do ruído na segmentação\n",
        "\n",
        "<center><img src=\"https://github.com/LAVI-USP/SEL0339-SEL5886_2021/raw/main/imagens/pratica_08/abobora_ruidosa_.png\" width=\"256\" height=\"256\"></center>\n",
        "\n",
        "<center><caption><b> Figura 3:</b> Imagem abobora_ruidosa.tif.</b></caption></center>\n",
        "\n",
        "**Exercício:**\n",
        "\n",
        "1. Binarize a imagem `abobora_ruidosa.tif` utilizando o método de Otsu para o cálculo do limiar;\n",
        "\n",
        "2. Comente sobre o resultado;\n",
        "\n",
        "3. Suavize a figura original usando filtro da média (escolha um tamanho apropriado para a máscara);\n",
        "\n",
        "4. Aplique o método de Otsu novamente para o cálculo do limiar na imagem suavizada e binarize novamente."
      ]
    },
    {
      "cell_type": "code",
      "metadata": {
        "id": "yfe2miYIByIf"
      },
      "source": [
        "## -- Seu código começa AQUI -- ##\n",
        "\n",
        "## -- Seu código começa AQUI -- ##"
      ],
      "execution_count": null,
      "outputs": []
    },
    {
      "cell_type": "markdown",
      "metadata": {
        "id": "JuWGiak2Cq1T"
      },
      "source": [
        "### 4) Limiarização local\n",
        " \n",
        "<center><img src=\"https://github.com/LAVI-USP/SEL0339-SEL5886_2021/raw/main/imagens/pratica_08/sudoku_.png\" width=\"256\" height=\"156\"></center>\n",
        " \n",
        "<center><caption><b> Figura 4:</b> Imagem sudoku.tif.</b></caption></center>\n",
        " \n",
        "**Exercício:**\n",
        " \n",
        "1. A imagem `sudoku.tif` possui uma iluminação não uniforme. Aplique a binarização pelo método de limiarização local nessa imagem variando os parâmetros `blockSize` (tamanho da janela) e `C` (constante a ser diminuída do média) de forma a se obter um resultado satisfatório. Comente sobre o resultado alcançado;\n",
        " \n",
        "2. Aplique a binarização pelo método de Otsu e compare com o resultado obtido no item 1.\n",
        " \n",
        "<details>   \n",
        "<summary>\n",
        "   <font size=\"3\" color=\"darkblue\"><b>Dicas:</b></font>\n",
        "</summary>\n",
        " \n",
        "* A limiarização local pode ser feita pela função [cv.adaptiveThreshold](https://docs.opencv.org/master/d7/d1b/group__imgproc__misc.html#ga72b913f352e4a1b1b397736707afcde3). Utilize o método adaptativo **cv.ADAPTIVE_THRESH_MEAN_C** que calcula o limiar como sendo a média de uma vizinhança **blockSize x blockSize** subtraída de uma constante **C**;\n",
        " \n",
        "*Ex:*\n",
        "``` python\n",
        "# Limiarização local pela média\n",
        "th3 = cv.adaptiveThreshold(img,maxVal,cv.ADAPTIVE_THRESH_MEAN_C,cv.THRESH_BINARY,blockSize,C)\n",
        "```"
      ]
    },
    {
      "cell_type": "code",
      "metadata": {
        "id": "6t3lTgVMCrMM"
      },
      "source": [
        "## -- Seu código começa AQUI -- ##\n",
        "\n",
        "## -- Seu código termina AQUI -- ##"
      ],
      "execution_count": null,
      "outputs": []
    },
    {
      "cell_type": "markdown",
      "metadata": {
        "id": "gCkpXMMVIWxR"
      },
      "source": [
        "### 5) K-means\n",
        " \n",
        "**Exercício:**\n",
        " \n",
        "1. Aplique o algoritmo de K-means na imagem `cores.jpeg` com $K=5$ para segmentar os cartões coloridos; Aplique o algoritmo no espaço de cores HSV, mais especificamente na matiz. \n",
        " \n",
        "2. Mostre o resultado e comente sobre. Por que $K=5$ pode ser uma boa escolha para a segmentação dos cartões quando se utiliza a matiz?\n",
        " \n",
        "<details>   \n",
        "<summary>\n",
        "   <font size=\"3\" color=\"darkblue\"><b>Dicas:</b></font>\n",
        "</summary>\n",
        " \n",
        "* Você pode utilizar a função [cv.kmeans](https://docs.opencv.org/master/d5/d38/group__core__cluster.html#ga9a34dc06c6ec9460e90860f15bcd2f88) para a segmentação. Você pode utilizar 20 iterações e epsilon = 0.01 para o K-means.\n",
        " \n",
        "* Para utilizar o K-means você deve passar a imagem como um vetor. O método `.ravel()` e `.flatten()` fazem isso. Além disso, a imagem deve estar em `float32`.\n",
        " \n",
        "*Ex:*\n",
        "``` python\n",
        "criterio = (cv.TERM_CRITERIA_EPS + cv.TERM_CRITERIA_MAX_ITER, nIteracao, epsilon)\n",
        " \n",
        "ret,label,centers = cv.kmeans(myVector, nCluster, None, criterio, 5, cv.KMEANS_PP_CENTERS)\n",
        " \n",
        "```"
      ]
    },
    {
      "cell_type": "code",
      "metadata": {
        "id": "tfA8UxFDbBy4"
      },
      "source": [
        "## -- Seu código começa AQUI -- ##\n",
        "\n",
        "## -- Seu código começa AQUI -- ##"
      ],
      "execution_count": null,
      "outputs": []
    }
  ]
}