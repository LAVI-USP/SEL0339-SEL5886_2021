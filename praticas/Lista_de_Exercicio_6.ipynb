{
  "nbformat": 4,
  "nbformat_minor": 0,
  "metadata": {
    "colab": {
      "name": "Lista_de_Exercicio_6.ipynb",
      "provenance": [],
      "collapsed_sections": [
        "NyvxHviMpShq"
      ]
    },
    "kernelspec": {
      "name": "python3",
      "display_name": "Python 3"
    }
  },
  "cells": [
    {
      "cell_type": "markdown",
      "metadata": {
        "id": "kGlmyFQMaR-U"
      },
      "source": [
        "# Lista de Exercício 6\n",
        "### Introdução à Visão Computacional (SEL0339/SEL5886)\n",
        "\n",
        "**Instruções:**\n",
        "\n",
        " 1. Esta lista consiste de 6 exercícios.\n",
        " 1. Deve-se colocar comentários nos códigos desenvolvidos.\n",
        " 1. As perguntas devem ser respondidas também como comentários no arquivo.\n",
        " 1. Colocar seu nome e número USP abaixo.\n",
        " 1. Quaisquer problemas na execução das listas, entrar em contato com os monitores.\n",
        " 1. Depois de terminado os exercícios, deve ser gerado um arquivo **extensão .ipynb** para ser enviado ao professor pelo E-DISCIPLINAS da disciplina até a data máxima de entrega.\n",
        " 1. Caso não seja enviado, o aluno ficará sem nota.\n",
        "\n",
        "\n",
        "---\n",
        "\n",
        "\n",
        "\n",
        " <table class=\"tfo-notebook-buttons\" align=\"left\">\n",
        "  <td>\n",
        "    <a target=\"_blank\" href=\"https://colab.research.google.com/github/LAVI-USP/SEL0339-SEL5886_2021/blob/main/praticas/Lista_de_Exercicio_6.ipynb\"><img src=\"https://www.tensorflow.org/images/colab_logo_32px.png\" />Executar no Google Colab</a>\n",
        "  </td>\n",
        "  <td>\n",
        "    <a target=\"_blank\" href=\"https://github.com/LAVI-USP/SEL0339-SEL5886_2021/blob/main/praticas/Lista_de_Exercicio_6.ipynb\"><img src=\"https://www.tensorflow.org/images/GitHub-Mark-32px.png\" />Ver codigo fonte no GitHub</a>\n",
        "  </td>\n",
        "</table>\n"
      ]
    },
    {
      "cell_type": "markdown",
      "metadata": {
        "id": "L3qYz1dB-tlT"
      },
      "source": [
        "`Nome: `\n",
        "\n",
        "`Número USP: `"
      ]
    },
    {
      "cell_type": "markdown",
      "metadata": {
        "id": "b9uBe7nevota"
      },
      "source": [
        "### Introdução:\n",
        "\n",
        "Esta lista de exercícios abordará o tema de operações morfológicas. \"As transformações morfológicas são algumas operações simples baseadas na forma da imagem. Normalmente sao executadas em imagens binárias. Elas precisam de duas entradas, uma é a nossa imagem original, a segunda é chamada de elemento estruturante (SE) ou *kernel* que decide a natureza da operação. Dois operadores morfológicos básicos são **Erosão** e **Dilatação**. Em seguida, suas formas variantes como **Abertura**, **Fechamento** etc. também entram em jogo.\" [1]\n",
        "\n",
        "\n",
        "<center><img src=\"https://docs.opencv.org/master/j.png\" style=\"float: left; width: 30%; margin-right: 1%; margin-bottom: 0.5em;\"><img src=\"https://docs.opencv.org/master/erosion.png\" style=\"float: left; width: 30%; margin-right: 1%; margin-bottom: 0.5em;\"><img src=\"https://docs.opencv.org/master/dilation.png\" style=\"float: left; width: 30%; margin-right: 1%; margin-bottom: 0.5em;\"></center>\n",
        "<center><caption><b> Figura 1: </b> Da esquerda para a direita: original, erosão e dilatação.</b></caption></center>\n",
        "<caption><center> Referência: OpenCV - <a href=\"https://docs.opencv.org/master/d9/d61/tutorial_py_morphological_ops.html\">Morphological Transformations</a>.</center></caption>\n",
        "\n",
        "\n",
        "Referências:\n",
        "\n",
        "*   Material da sala de aula;\n",
        "*   Gonzalez and Woods, Digital Image Processing 4th;\n",
        "*   [1] OpenCV: [Morphological Transformations](https://docs.opencv.org/master/d9/d61/tutorial_py_morphological_ops.html);\n",
        "\n",
        "Vamos importar as bibliotecas que iremos utilizar:"
      ]
    },
    {
      "cell_type": "code",
      "metadata": {
        "id": "xnKV2As4aCX1"
      },
      "source": [
        "import numpy as np\n",
        "import matplotlib.pyplot as plt\n",
        "import cv2 as cv"
      ],
      "execution_count": null,
      "outputs": []
    },
    {
      "cell_type": "markdown",
      "metadata": {
        "id": "NyvxHviMpShq"
      },
      "source": [
        "#### **Atenção**: os códigos abaixo são para fazer o download das imagens (EXECUTE-OS). Os mesmos não fazem parte dessa prática. "
      ]
    },
    {
      "cell_type": "code",
      "metadata": {
        "id": "Amk5CM273Afp"
      },
      "source": [
        "import urllib.request\n",
        "\n",
        "try:\n",
        "  urllib.request.urlretrieve(\"https://github.com/LAVI-USP/SEL0339-SEL5886_2021/raw/main/imagens/pratica_06/A.png\", \"A.png\")\n",
        "except:\n",
        "  print(\"[ERRO] Não foi possível fazer o download das imagens dessa prática. Entre em contato com o monitor\")\n",
        "\n",
        "try:\n",
        "  urllib.request.urlretrieve(\"https://github.com/LAVI-USP/SEL0339-SEL5886_2021/raw/main/imagens/pratica_06/B.png\", \"B.png\")\n",
        "except:\n",
        "  print(\"[ERRO] Não foi possível fazer o download das imagens dessa prática. Entre em contato com o monitor\")\n",
        "\n",
        "try:\n",
        "  urllib.request.urlretrieve(\"https://github.com/LAVI-USP/SEL0339-SEL5886_2021/raw/main/imagens/pratica_06/circles.png\", \"circles.png\")\n",
        "except:\n",
        "  print(\"[ERRO] Não foi possível fazer o download das imagens dessa prática. Entre em contato com o monitor\")\n",
        "\n",
        "try:\n",
        "  urllib.request.urlretrieve(\"https://github.com/LAVI-USP/SEL0339-SEL5886_2021/raw/main/imagens/pratica_06/fingerprint.png\", \"fingerprint.png\")\n",
        "except:\n",
        "  print(\"[ERRO] Não foi possível fazer o download das imagens dessa prática. Entre em contato com o monitor\")\n",
        "\n",
        "try:\n",
        "  urllib.request.urlretrieve(\"https://github.com/LAVI-USP/SEL0339-SEL5886_2021/raw/main/imagens/pratica_06/shapes.png\", \"shapes.png\")\n",
        "except:\n",
        "  print(\"[ERRO] Não foi possível fazer o download das imagens dessa prática. Entre em contato com o monitor\")\n",
        "\n",
        "try:\n",
        "  urllib.request.urlretrieve(\"https://github.com/LAVI-USP/SEL0339-SEL5886_2021/raw/main/imagens/pratica_06/texto.png\", \"texto.png\")\n",
        "except:\n",
        "  print(\"[ERRO] Não foi possível fazer o download das imagens dessa prática. Entre em contato com o monitor\")\n",
        "\n",
        "try:\n",
        "  urllib.request.urlretrieve(\"https://github.com/LAVI-USP/SEL0339-SEL5886_2021/raw/main/imagens/pratica_06/elefante.tif\", \"elefante.tif\")\n",
        "except:\n",
        "  print(\"[ERRO] Não foi possível fazer o download das imagens dessa prática. Entre em contato com o monitor\")\n",
        "\n",
        "try:\n",
        "  urllib.request.urlretrieve(\"https://github.com/LAVI-USP/SEL0339-SEL5886_2021/raw/main/imagens/pratica_06/card1.jpg\", \"card1.jpg\")\n",
        "except:\n",
        "  print(\"[ERRO] Não foi possível fazer o download das imagens dessa prática. Entre em contato com o monitor\")\n",
        "\n",
        "try:\n",
        "  urllib.request.urlretrieve(\"https://github.com/LAVI-USP/SEL0339-SEL5886_2021/raw/main/imagens/pratica_06/card2.png\", \"card2.png\")\n",
        "except:\n",
        "  print(\"[ERRO] Não foi possível fazer o download das imagens dessa prática. Entre em contato com o monitor\")\n",
        "\n",
        "try:\n",
        "  urllib.request.urlretrieve(\"https://github.com/LAVI-USP/SEL0339-SEL5886_2021/raw/main/imagens/pratica_06/card3.png\", \"card3.png\")\n",
        "except:\n",
        "  print(\"[ERRO] Não foi possível fazer o download das imagens dessa prática. Entre em contato com o monitor\")\n",
        "\n",
        "try:\n",
        "  urllib.request.urlretrieve(\"https://github.com/LAVI-USP/SEL0339-SEL5886_2021/raw/main/imagens/pratica_06/card4.jpg\", \"card4.jpg\")\n",
        "except:\n",
        "  print(\"[ERRO] Não foi possível fazer o download das imagens dessa prática. Entre em contato com o monitor\")\n",
        "\n",
        "try:\n",
        "  urllib.request.urlretrieve(\"https://github.com/LAVI-USP/SEL0339-SEL5886_2021/raw/main/imagens/pratica_06/ocr_a_reference.png\", \"ocr_a_reference.png\")\n",
        "except:\n",
        "  print(\"[ERRO] Não foi possível fazer o download das imagens dessa prática. Entre em contato com o monitor\")\n",
        "\n",
        "try:\n",
        "  urllib.request.urlretrieve(\"https://github.com/LAVI-USP/SEL0339-SEL5886_2021/raw/main/imagens/pratica_06/ocr_functions.py\", \"ocr_functions.py\")\n",
        "except:\n",
        "  print(\"[ERRO] Não foi possível fazer o download das imagens dessa prática. Entre em contato com o monitor\")"
      ],
      "execution_count": null,
      "outputs": []
    },
    {
      "cell_type": "markdown",
      "metadata": {
        "id": "IHz3lrkyumoo"
      },
      "source": [
        "### 1) Operações lógicas em imagens binárias\n",
        "\n",
        "**Exercício:**\n",
        "\n",
        "1. Faça a leitura das imagens ```A.png``` e ```B.png```, transforme-as para o tipo binário (*logical*) e realize as operações abaixo. Comente os resultados encontrados.\n",
        "\n",
        "  *   União $A \\cup B$\n",
        "  *   Interseção $A \\cap B$\n",
        "  *   Diferença $A \\, – B$\n",
        "  *   Diferença $B \\, – A$\n",
        "\n",
        "2. Mostre todos os resultados utilizando *subplots*.\n",
        "\n",
        "<details>    \n",
        "<summary>\n",
        "    <font size=\"3\" color=\"darkblue\"><b>Dicas:</b></font>\n",
        "</summary>\n",
        "\n",
        "*  As funções [np.bitwise_xor](https://numpy.org/doc/stable/reference/generated/numpy.bitwise_xor.html), [np.bitwise_or](https://numpy.org/doc/stable/reference/generated/numpy.bitwise_or.html#numpy.bitwise_or) e [np.bitwise_and](https://numpy.org/doc/stable/reference/generated/numpy.bitwise_and.html#numpy.bitwise_and) podem ser úteis."
      ]
    },
    {
      "cell_type": "code",
      "metadata": {
        "id": "jWg6jEzMD3xN"
      },
      "source": [
        "#Seu código começa aqui\n",
        "\n",
        "#Seu código termina aqui"
      ],
      "execution_count": null,
      "outputs": []
    },
    {
      "cell_type": "markdown",
      "metadata": {
        "id": "cOOMbcy_F_TV"
      },
      "source": [
        "### 2) Erosão\n",
        "\n",
        "\"A ideia básica de erosão é apenas como a erosão do solo, ela desgasta os limites do objeto em primeiro plano (sempre tente manter o primeiro plano em branco). Então o que isso faz? O kernel desliza pela imagem (como na convolução 2D - veja a imagem abaixo). Um pixel na imagem original (1 ou 0) será considerado 1 apenas se todos os pixels sob o kernel forem 1, caso contrário, ele é \"erodido\" (reduzido a zero).\n",
        "\n",
        "Então o que acontece é que, todos os pixels próximos ao limite serão descartados dependendo do tamanho do kernel. Portanto, a espessura ou o tamanho do objeto em primeiro plano diminui ou simplesmente a região branca diminui na imagem. É útil para remover pequenos ruídos brancos, destacar dois objetos conectados, etc.\" [1].\n",
        "\n",
        "<center><img src=\"https://github.com/LAVI-USP/SEL0339-SEL5886_2021/raw/main/imagens/pratica_06/erosao.gif\" width=\"640\" height=\"298\"></center>\n",
        "\n",
        "<center><caption><b> Figura 2:</b> Animação de uma operação morfológica de erosão.</b></caption></center>\n",
        "<caption><center> Referência: Peter Corke - <a href=\"https://www.youtube.com/watch?v=b5lgnNEzGeU\">Youtube</a>.</center></caption>\n",
        "\n",
        "**Exercício:**\n",
        "\n",
        "1. Erodir a imagem ```circles.png``` usando um elemento estruturante em diferentes formas (elipse, cruz). Utilizar ao menos 2 SE. Tente ajustar o tamanho do elemento para que os objetos da imagem se separem.\n",
        "\n",
        "2. Em seguida, com um elemento estruturante pequeno, realize a erosão e subtraia o resultado da imagem original.\n",
        "\n",
        "<details>    \n",
        "<summary>\n",
        "    <font size=\"3\" color=\"darkblue\"><b>Dicas:</b></font>\n",
        "</summary>\n",
        "\n",
        "*  A função [cv.erode](https://docs.opencv.org/3.4/d4/d86/group__imgproc__filter.html#gaeb1e0c1033e3f6b891a25d0511362aeb) operação de erosão.\n",
        "\n",
        "*Ex:*\n",
        "``` python\n",
        "cv.erode(myImg, SE, iterations = 1)\n",
        "```\n",
        "\n",
        "\n"
      ]
    },
    {
      "cell_type": "code",
      "metadata": {
        "id": "PrD4oic0GWqA"
      },
      "source": [
        "#Seu código começa aqui\n",
        "\n",
        "#Seu código termina aqui"
      ],
      "execution_count": null,
      "outputs": []
    },
    {
      "cell_type": "markdown",
      "metadata": {
        "id": "MWAJLdx8zSTV"
      },
      "source": [
        "### 3) Dilatação\n",
        "\n",
        "\"É exatamente o oposto da erosão. Aqui, um elemento de pixel é '1' se pelo menos um pixel sob o kernel for '1'. Portanto, aumenta a região branca na imagem ou o tamanho do objeto em primeiro plano aumenta (veja a imagem abaixo). Normalmente, em casos como remoção de ruído, a erosão é seguida de dilatação. Porque a erosão remove os ruídos brancos, mas também encolhe nosso objeto. Então, nós dilatamos. Como o ruído acabou, eles não voltarão, mas nossa área de objeto aumenta. Também é útil para unir partes quebradas de um objeto\" [1].\n",
        "\n",
        "<center><img src=\"https://github.com/LAVI-USP/SEL0339-SEL5886_2021/raw/main/imagens/pratica_06/dilatacao.gif\" width=\"640\" height=\"298\"></center>\n",
        "\n",
        "<center><caption><b> Figura 3: </b> Animação de uma operação morfológica de dilatação.</b></caption></center>\n",
        "<caption><center> Referência: Peter Corke - <a href=\"https://www.youtube.com/watch?v=3IJ8RFtlDLY\">Youtube</a>.</center></caption>\n",
        "\n",
        "\n",
        "**Exercício:**\n",
        "\n",
        "1. Dilatar a imagem ```texto.png``` usando o seguinte elemento estruturante (SE):\n",
        "\n",
        "\\begin{equation}\n",
        "SE = \n",
        "\\begin{bmatrix}\n",
        "1 & 0 & 1\\\\\n",
        "0 & 1 & 0\\\\\n",
        "1 & 0 & 1\n",
        "\\end{bmatrix}\n",
        "\\end{equation}\n",
        "\n",
        "2. Gere os seguintes elementos estruturantes para dilatar a imagem. Mostre esses elementos estruturantes em *subplots*.\n",
        "\n",
        "  *   Retângulo de tamanho 5;\n",
        "  *   Cruz de tamanho 7;\n",
        "  *   Elipse de tamanho 11.\n",
        "\n",
        "3. Mostre as imagens resultantes e comente os resultados encontrados. Inclua comentários no código acima e conclua sobre o resultado encontrado na imagem após a operação de dilatação.\n",
        "\n",
        " \n",
        "<details>    \n",
        "<summary>\n",
        "    <font size=\"3\" color=\"darkblue\"><b>Dicas:</b></font>\n",
        "</summary>\n",
        "\n",
        "*  A função [cv.dilate](https://docs.opencv.org/3.4/d4/d86/group__imgproc__filter.html#ga4ff0f3318642c4f469d0e11f242f3b6c) operação de dilatação.\n",
        "*  A função [cv.getStructuringElement](https://docs.opencv.org/master/d4/d86/group__imgproc__filter.html#gac342a1bb6eabf6f55c803b09268e36dc) gera os elementos estruturantes pré-definidos.\n",
        "*  Aqui está o [link](https://docs.opencv.org/master/d4/d86/group__imgproc__filter.html#gac2db39b56866583a95a5680313c314ad) onde são encontrados os elementos estruturantes pré-definidos disponíveis.\n",
        "*  Você pode criar elementos estruturantes e passar como argumento para a função de dilatação. \n",
        "\n",
        "*Ex:*\n",
        "``` python\n",
        "SE = cv.getStructuringElement(cv.MORPH_RECT,(Size,Size))\n",
        "cv.dilate(myImg, SE, iterations = 1)\n",
        "```"
      ]
    },
    {
      "cell_type": "code",
      "metadata": {
        "id": "KC7cTlFBxeOM"
      },
      "source": [
        "#Seu código começa aqui\n",
        "\n",
        "#Seu código termina aqui"
      ],
      "execution_count": null,
      "outputs": []
    },
    {
      "cell_type": "markdown",
      "metadata": {
        "id": "5D3t2YekZzVk"
      },
      "source": [
        "### 4) Abertura e Fechamento\n",
        "\n",
        "\n",
        "Abertura é apenas um nome dado a operação de erosão seguida de dilatação. É útil na remoção de ruído, como no exemplo da figura abaixo.\n",
        "\n",
        "\n",
        "<center><img src=\"https://docs.opencv.org/master/opening.png\" width=\"224\" height=\"150\"></center>\n",
        "\n",
        "<center><caption><b> Figura 4: </b> Operação morfológica de abertura.</b></caption></center>\n",
        "<caption><center> Referência: OpenCV - <a href=\"https://docs.opencv.org/master/d9/d61/tutorial_py_morphological_ops.html\">Morphological Transformations</a>.</center></caption>\n",
        "\n",
        "O fechamento é o processo inverso da abertura, ou seja, dilatação seguida por erosão. É útil para fechar pequenos orifícios dentro dos objetos em primeiro plano ou pequenos pontos pretos no objeto.\n",
        "\n",
        "<center><img src=\"https://docs.opencv.org/master/closing.png\" width=\"224\" height=\"150\"></center>\n",
        "\n",
        "<center><caption><b> Figura 5: </b> Operação morfológica de fechamento.</b></caption></center>\n",
        "<caption><center> Referência: OpenCV - <a href=\"https://docs.opencv.org/master/d9/d61/tutorial_py_morphological_ops.html\">Morphological Transformations</a>.</center></caption>\n",
        "\n",
        "\n",
        "\n",
        "\n",
        "4.1) **Exercício:**\n",
        "\n",
        "1. Aplicar os seguintes filtros morfológicos na imagem ```shapes.png```:\n",
        "\n",
        "  *   Abertura, utilizando um elemento estruturante quadrado de largura 10;\n",
        "  *   Fechamento, com o mesmo elemento estruturante anterior.\n",
        "  *   Uma abertura seguida de um fechamento, com o mesmo elemento estruturante anterior.\n",
        "  *   Repetir o item anterior variando a altura do elemento estruturante para 5 e depois para 15. Analisar os resultados encontrados.\n",
        "\n",
        "2. Conclua a respeito dos resultados encontrados em todos os itens acima.\n",
        "\n",
        "<details>    \n",
        "<summary>\n",
        "    <font size=\"3\" color=\"darkblue\"><b>Dicas:</b></font>\n",
        "</summary>\n",
        "\n",
        "*  A função [cv.morphologyEx](https://docs.opencv.org/master/d4/d86/group__imgproc__filter.html#ga67493776e3ad1a3df63883829375201f) realiza diversas operações de morfologia. Os diferentes tipos de operações podem ser consultados [aqui](https://docs.opencv.org/master/d4/d86/group__imgproc__filter.html#ga7be549266bad7b2e6a04db49827f9f32).\n",
        "\n",
        "*Ex:*\n",
        "``` python\n",
        "cv.morphologyEx(myImg, cv.MORPH_OPEN , SE)\n",
        "cv.morphologyEx(myImg, cv.MORPH_CLOSE, SE)\n",
        "```"
      ]
    },
    {
      "cell_type": "code",
      "metadata": {
        "id": "n4oOLWudEGvj"
      },
      "source": [
        "#Seu código começa aqui\n",
        "\n",
        "#Seu código termina aqui"
      ],
      "execution_count": null,
      "outputs": []
    },
    {
      "cell_type": "markdown",
      "metadata": {
        "id": "gzKaCh4AasMa"
      },
      "source": [
        "4.2) **Exercício:**\n",
        "\n",
        "1. Aplicar os seguintes filtros morfológicos na imagem ```fingerprint.png```:\n",
        "\n",
        "  *   Uma abertura seguida de um fechamento com um elemento estruturante em formato de cruz de tamanho 3;\n",
        "  *   Um fechamento seguido de uma abertura com um elemento estruturante em formato de cruz de tamanho 3.\n",
        "\n",
        "2. Conclua a respeito dos resultados encontrados em todos os itens acima."
      ]
    },
    {
      "cell_type": "code",
      "metadata": {
        "id": "mjWK_UnTlZCM"
      },
      "source": [
        "#Seu código começa aqui\n",
        "\n",
        "#Seu código termina aqui"
      ],
      "execution_count": null,
      "outputs": []
    },
    {
      "cell_type": "markdown",
      "metadata": {
        "id": "3-KPx5I8Y7CE"
      },
      "source": [
        "### 5) Dilatação e Erosão em imagens em escala de cinza\n",
        "\n",
        "**Exercício:**\n",
        "\n",
        "1. Faça a dilatação e erosão (separadamente) em escala de cinza da imagem ```elefante.tif``` usando Elemento Estruturante em forma de:\n",
        "\n",
        "  *   Retângulo de tamanho 5;\n",
        "  *   Elipse de tamanho 5.\n",
        "\n",
        "2. Conclua a respeito dos resultados encontrados em todos os itens acima."
      ]
    },
    {
      "cell_type": "code",
      "metadata": {
        "id": "oYt-hFICY7Og"
      },
      "source": [
        "#Seu código começa aqui\n",
        "\n",
        "#Seu código termina aqui"
      ],
      "execution_count": null,
      "outputs": []
    },
    {
      "cell_type": "markdown",
      "metadata": {
        "id": "sAEubcGqO5gG"
      },
      "source": [
        "### 6) Aplicação\n",
        "\n",
        "Você foi contratado por uma empresa de *e-commerce* para facilitar a vida de seus clientes ao inserir as informações do cartão de crédito no momento da compra.\n",
        "\n",
        "Para isso, você está desenvolvendo um aplicativo de celular que irá utilizar a câmera e assim o usuário apontará para seu cartão e você deverá fazer a leitura dos números por meio de técnicas de visão computacional.\n",
        "\n",
        "<center><img src=\"https://github.com/LAVI-USP/SEL0339-SEL5886_2021/raw/main/imagens/pratica_06/card1.jpg\" width=\"224\" height=\"150\"></center>\n",
        "\n",
        "<center><caption><b> Figura 6: </b> Cartão de crédito.</b></caption></center>\n",
        "\n",
        "Para isso, vamos utilizar técnicas para o Reconhecimento Ótico de Caracteres (*Optical Character Recognition* - [OCR](https://en.wikipedia.org/wiki/Optical_character_recognition)). \n",
        "\n",
        "Perceba que esse método utiliza técnica convencionais de visão computacional, tais como: operações morfológicas, métodos de segmentação e classificação por comparação de templates. Naturalmente, o método tem suas limitações e você observará isso. \n",
        "\n",
        "**Exercício:**\n",
        "\n",
        "1. Faça a leitura da imagem ```card1.jpg```, converta-a para o tamanho $altura:189 \\times largura:300$. Em seguida converta-a para nível de cinza. \n",
        "\n",
        "2. Crie dois elementos estruturantes que iremos utilizar:\n",
        "\n",
        "  *   Retângulo de tamanho $3 \\times 9$;\n",
        "  *   Quadrado de tamanho $5 \\times 5$.\n",
        "\n",
        "3. Após a operação de segmentação por Otsu (iremos ver essa técnica nas próximas listas), observe que os números foram segmentados corretamente. No entanto, diversas outras coisas também foram. Para que possamos identificar de maneira correta os 4 grupos de 4 números, utilize a operação morfológica de fechamento para juntar o grupo de 4 números em um só, criando assim uma máscara:\n",
        "\n",
        "   *   Aplique uma operação de **fechamento** com o SE retangular na imagem ```thresh```;\n",
        "   *   Aplique uma operação de **fechamento** com o SE quadrado na imagem resultante da operação anterior. Atribua esse resultado a uma variável chamada ```mask```.\n",
        "\n",
        "5. Por fim, mostre o resultado gerado pela função ```ocr.find_card_numbers```.\n",
        "\n",
        "4. 3 diferentes imagens de cartões de créditos são fornecidas. Teste-as e conclua algo sobre o resultado delas. Sinta-se à vontade para buscar outras imagens na internet e testar os resultados. \n",
        "\n",
        "Referência:\n",
        "\n",
        "*   Credit Card OCR with OpenCV and Python - [Pyimagesearch](https://www.pyimagesearch.com/2017/07/17/credit-card-ocr-with-opencv-and-python/).\n",
        "\n",
        "<details>    \n",
        "<summary>\n",
        "    <font size=\"3\" color=\"darkblue\"><b>Dicas:</b></font>\n",
        "</summary>\n",
        "\n",
        "*  Os nomes das variáveis já estão escritas no código. Utilize essa mesma nomenclatura pois algumas funções já escritas dependem dessas variáveis. Escreva seu código os estão as palavras ```None```.\n",
        "\n",
        "*  Fique atento as indicações onde seu código deve começar e terminar. Não altere as funções fora das indicações.\n",
        "\n",
        "*  Caso você tenha interesse em saber como está sendo feita a classificação, visite o blog mencionado nas referências e também o código ```ocr_functions.py```."
      ]
    },
    {
      "cell_type": "code",
      "metadata": {
        "id": "F3tYDQ5KxXqk"
      },
      "source": [
        "# O nome das diversas imagens:\n",
        "# | \"card2.png\" | \"card3.png\" | \"card4.jpg\" |\n",
        "\n",
        "from ocr_functions import ocr_Helper\n",
        "\n",
        "# Função que nos auxiliará a classificar os dígitos\n",
        "ocr = ocr_Helper()\n",
        "\n",
        "\n",
        "## -- Seu código começa AQUI -- ##\n",
        "image_rgb = None\n",
        "image_rgb_resize = None\n",
        "image_gray = None\n",
        "\n",
        "kernel_rect = None   # SE retangular\n",
        "kernel_sq   = None   # SE quadrado\n",
        "## -- Seu código termina AQUI -- ##\n",
        "\n",
        "\n",
        "image_rgb = image_rgb_resize\n",
        "\n",
        "# Operação morfológica que resulta na diferença entre uma abertura e a\n",
        "# imagem original. \n",
        "tophat = cv.morphologyEx(image_gray, cv.MORPH_TOPHAT, kernel_rect)\n",
        "\n",
        "# Segmentação pelo método de Otsu\n",
        "thresh = cv.threshold(tophat, 0, 255,cv.THRESH_BINARY | cv.THRESH_OTSU)[1]\n",
        "\n",
        "\n",
        "## -- Seu código começa AQUI -- ##\n",
        "close_kernel_rect = None\n",
        "mask = None\n",
        "## -- Seu código termina AQUI -- ##\n",
        "\n",
        "\n",
        "image_out = ocr.find_card_numbers(image_rgb, image_gray, mask)\n",
        "\n",
        "\n",
        "## -- Seu código começa AQUI -- ##\n",
        "# Mostrar a imagem \"image_out\" aqui\n",
        "## -- Seu código começa AQUI -- ##"
      ],
      "execution_count": null,
      "outputs": []
    }
  ]
}